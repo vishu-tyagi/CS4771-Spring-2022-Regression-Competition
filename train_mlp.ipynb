{
  "nbformat": 4,
  "nbformat_minor": 0,
  "metadata": {
    "colab": {
      "name": "mlp_1_316_49334.ipynb",
      "provenance": [],
      "collapsed_sections": [],
      "machine_shape": "hm"
    },
    "kernelspec": {
      "name": "python3",
      "display_name": "Python 3"
    },
    "language_info": {
      "name": "python"
    },
    "accelerator": "GPU"
  },
  "cells": [
    {
      "cell_type": "code",
      "execution_count": null,
      "metadata": {
        "id": "TOzqBkX5xUzY",
        "colab": {
          "base_uri": "https://localhost:8080/"
        },
        "outputId": "b44c9833-c28b-4538-c89e-87c9791e51e4"
      },
      "outputs": [
        {
          "output_type": "stream",
          "name": "stdout",
          "text": [
            "GPU available: True\n"
          ]
        }
      ],
      "source": [
        "import os\n",
        "import shutil\n",
        "from pathlib import Path\n",
        "\n",
        "os.chdir('/content/drive/MyDrive/COMS4771')\n",
        "DATA_PATH = Path.cwd() / 'data'\n",
        "RAW = DATA_PATH / 'raw'\n",
        "PROCESSED = DATA_PATH / 'processed'\n",
        "SUBMISSION = DATA_PATH / 'submission'\n",
        "\n",
        "from utils import *"
      ]
    },
    {
      "cell_type": "code",
      "source": [
        "xdev, ydev, xtest = load_data(preprocess_flag=True)\n",
        "\n",
        "xtrain, ytrain, xval, yval, xtest = process_and_split(xdev=xdev, ydev=ydev, xtest=xtest, random_seed=1024)"
      ],
      "metadata": {
        "id": "PAEPrY6phjJ_"
      },
      "execution_count": null,
      "outputs": []
    },
    {
      "cell_type": "code",
      "source": [
        "input_size = xtrain.shape[1]\n",
        "output_size = 1\n",
        "\n",
        "EPOCHS = 100\n",
        "batch_size = 764\n",
        "learning_rate = 0.001"
      ],
      "metadata": {
        "id": "rSIFw4wJhMaR"
      },
      "execution_count": null,
      "outputs": []
    },
    {
      "cell_type": "code",
      "source": [
        "train_loader, valid_loader = make_data_loader(xtrain=xtrain, ytrain=ytrain, xval=xval, yval=yval, batch_size=batch_size)\n",
        "\n",
        "model = build_model(input_size=input_size, output_size=1)\n"
      ],
      "metadata": {
        "id": "fqEl91lNiQ5R"
      },
      "execution_count": null,
      "outputs": []
    },
    {
      "cell_type": "code",
      "source": [
        "# train\n",
        "valid_loss = train(model=model, train_loader=train_loader, valid_loader=valid_loader, learning_rate=learning_rate, EPOCHS=EPOCHS, batch_size=batch_size, train_shape=xtrain.shape[0])\n"
      ],
      "metadata": {
        "colab": {
          "base_uri": "https://localhost:8080/"
        },
        "id": "8HPqJMHQ5MBT",
        "outputId": "b48f4410-7d68-4a9c-aa32-ba6bbe9795e9"
      },
      "execution_count": null,
      "outputs": [
        {
          "output_type": "stream",
          "name": "stdout",
          "text": [
            "EPOCH:1/100 - Training Loss: 437.88388148924616, Validation Loss: 374.54722391764324\n",
            "EPOCH:2/100 - Training Loss: 353.7203576354252, Validation Loss: 356.1140123639788\n",
            "EPOCH:3/100 - Training Loss: 344.4722965577337, Validation Loss: 350.7157339913504\n",
            "EPOCH:4/100 - Training Loss: 339.4843525306137, Validation Loss: 348.6548563639323\n",
            "EPOCH:5/100 - Training Loss: 336.8926214614176, Validation Loss: 345.81980997721354\n",
            "EPOCH:6/100 - Training Loss: 334.7167350386663, Validation Loss: 344.52064543224515\n",
            "EPOCH:7/100 - Training Loss: 332.32884132549134, Validation Loss: 343.85183192661833\n",
            "EPOCH:8/100 - Training Loss: 331.09402626055805, Validation Loss: 342.668645804269\n",
            "EPOCH:9/100 - Training Loss: 329.66570684392013, Validation Loss: 341.5325413295201\n",
            "EPOCH:10/100 - Training Loss: 328.34959859552134, Validation Loss: 341.2903331938244\n",
            "EPOCH:11/100 - Training Loss: 327.45824649055135, Validation Loss: 341.94428478422617\n",
            "EPOCH:12/100 - Training Loss: 326.16423580925334, Validation Loss: 340.6293987455822\n",
            "EPOCH:13/100 - Training Loss: 325.1713097328787, Validation Loss: 341.9965401785714\n",
            "EPOCH:14/100 - Training Loss: 324.55720035671334, Validation Loss: 342.90050223214286\n",
            "EPOCH:15/100 - Training Loss: 324.0096153313903, Validation Loss: 341.8533678327288\n",
            "EPOCH:16/100 - Training Loss: 322.8596820330563, Validation Loss: 341.01632007417226\n",
            "EPOCH:17/100 - Training Loss: 322.1922620532052, Validation Loss: 340.18209083193824\n",
            "EPOCH:18/100 - Training Loss: 321.3457884868176, Validation Loss: 341.8557400658017\n",
            "EPOCH:19/100 - Training Loss: 320.91319875785445, Validation Loss: 342.0459721156529\n",
            "EPOCH:20/100 - Training Loss: 319.8510728713152, Validation Loss: 342.68294299897696\n",
            "EPOCH:21/100 - Training Loss: 319.7253927080614, Validation Loss: 339.88954671223956\n",
            "EPOCH:22/100 - Training Loss: 318.8093825092179, Validation Loss: 340.9363531203497\n",
            "EPOCH:23/100 - Training Loss: 318.4093035786704, Validation Loss: 340.13311186290923\n",
            "EPOCH:24/100 - Training Loss: 317.6190138932913, Validation Loss: 343.3972137451172\n",
            "EPOCH:25/100 - Training Loss: 317.39310293265913, Validation Loss: 340.7937347412109\n",
            "EPOCH:26/100 - Training Loss: 316.78357789396955, Validation Loss: 340.3640096028646\n",
            "EPOCH:27/100 - Training Loss: 316.44033948220044, Validation Loss: 340.6632597423735\n",
            "EPOCH:28/100 - Training Loss: 315.898965512369, Validation Loss: 341.06102469308036\n",
            "EPOCH:29/100 - Training Loss: 315.9755661629834, Validation Loss: 340.09305478050595\n",
            "EPOCH:30/100 - Training Loss: 315.3914750128771, Validation Loss: 340.24754638671874\n",
            "EPOCH:31/100 - Training Loss: 314.69132030550793, Validation Loss: 340.566123453776\n",
            "EPOCH:32/100 - Training Loss: 313.95986352160327, Validation Loss: 340.5239994594029\n",
            "EPOCH:33/100 - Training Loss: 313.7384331823818, Validation Loss: 341.14929940359934\n",
            "EPOCH:34/100 - Training Loss: 313.5399433946268, Validation Loss: 340.4821050734747\n",
            "EPOCH:35/100 - Training Loss: 313.0062816683603, Validation Loss: 340.60609377906434\n",
            "EPOCH:36/100 - Training Loss: 313.08807802769337, Validation Loss: 341.5105119977679\n",
            "EPOCH:37/100 - Training Loss: 312.6049632798516, Validation Loss: 340.36094767252604\n",
            "EPOCH:38/100 - Training Loss: 312.23057519735187, Validation Loss: 341.96879010881696\n",
            "EPOCH:39/100 - Training Loss: 312.369820387665, Validation Loss: 341.3057153610956\n",
            "EPOCH:40/100 - Training Loss: 311.1866046477616, Validation Loss: 340.7471128917876\n",
            "EPOCH:41/100 - Training Loss: 310.9320919792521, Validation Loss: 341.18738040015813\n",
            "EPOCH:42/100 - Training Loss: 310.7137218102066, Validation Loss: 341.1146721249535\n",
            "EPOCH:43/100 - Training Loss: 310.6247776732524, Validation Loss: 341.67298206147694\n",
            "EPOCH:44/100 - Training Loss: 309.9849833122017, Validation Loss: 340.69077453613284\n",
            "EPOCH:45/100 - Training Loss: 309.6974145711749, Validation Loss: 341.6213598342169\n",
            "EPOCH:46/100 - Training Loss: 309.31589426118035, Validation Loss: 340.7746272495815\n",
            "EPOCH:47/100 - Training Loss: 309.6538292786956, Validation Loss: 341.2055392310733\n",
            "EPOCH:48/100 - Training Loss: 309.42091060083067, Validation Loss: 343.01126694452194\n",
            "EPOCH:49/100 - Training Loss: 308.57129445223933, Validation Loss: 342.2927199590774\n",
            "EPOCH:50/100 - Training Loss: 308.38089346145955, Validation Loss: 342.05660124279206\n",
            "EPOCH:51/100 - Training Loss: 308.2883001432214, Validation Loss: 342.1776102701823\n",
            "EPOCH:52/100 - Training Loss: 308.4078176493861, Validation Loss: 341.7321815127418\n",
            "EPOCH:53/100 - Training Loss: 307.50645377584743, Validation Loss: 341.955907476516\n",
            "EPOCH:54/100 - Training Loss: 307.6124127372068, Validation Loss: 341.8506295340402\n",
            "EPOCH:55/100 - Training Loss: 306.8737668422071, Validation Loss: 342.8495429629371\n",
            "EPOCH:56/100 - Training Loss: 306.6940251170593, Validation Loss: 341.1352075485956\n",
            "EPOCH:57/100 - Training Loss: 306.69100744570636, Validation Loss: 341.2742723737444\n",
            "EPOCH:58/100 - Training Loss: 306.37365183682317, Validation Loss: 347.15241088867185\n",
            "EPOCH:59/100 - Training Loss: 306.86433439778256, Validation Loss: 341.9315354120164\n",
            "EPOCH:60/100 - Training Loss: 306.1088291432237, Validation Loss: 343.3961725144159\n",
            "EPOCH:61/100 - Training Loss: 305.5931694376725, Validation Loss: 342.2235367547898\n",
            "EPOCH:62/100 - Training Loss: 305.4550732086837, Validation Loss: 341.646278889974\n",
            "EPOCH:63/100 - Training Loss: 304.98029037876177, Validation Loss: 342.6053347632999\n",
            "EPOCH:64/100 - Training Loss: 304.80156673167374, Validation Loss: 341.9068561372303\n",
            "EPOCH:65/100 - Training Loss: 304.9393857168412, Validation Loss: 342.2974622453962\n",
            "EPOCH:66/100 - Training Loss: 305.0763375730674, Validation Loss: 343.2841699509394\n",
            "EPOCH:67/100 - Training Loss: 304.30026485470427, Validation Loss: 342.5438998267764\n",
            "EPOCH:68/100 - Training Loss: 304.2707970739834, Validation Loss: 341.94922717866444\n",
            "EPOCH:69/100 - Training Loss: 304.0460865685365, Validation Loss: 342.1474879673549\n",
            "EPOCH:70/100 - Training Loss: 303.7545820614034, Validation Loss: 342.5738721575056\n",
            "EPOCH:71/100 - Training Loss: 303.9439791950235, Validation Loss: 342.08499784923737\n",
            "EPOCH:72/100 - Training Loss: 303.21086422867876, Validation Loss: 342.9974860781715\n",
            "EPOCH:73/100 - Training Loss: 303.08670470026055, Validation Loss: 342.3223520914714\n",
            "EPOCH:74/100 - Training Loss: 303.3163962352816, Validation Loss: 343.0163373674665\n",
            "EPOCH:75/100 - Training Loss: 302.77170611907303, Validation Loss: 342.29793454124814\n",
            "EPOCH:76/100 - Training Loss: 302.5875719748704, Validation Loss: 342.2411593482608\n",
            "EPOCH:77/100 - Training Loss: 302.2346300111466, Validation Loss: 342.5399956112816\n",
            "EPOCH:78/100 - Training Loss: 302.25349859633707, Validation Loss: 343.50606936500185\n",
            "EPOCH:79/100 - Training Loss: 301.86088780514666, Validation Loss: 342.97227739606586\n",
            "EPOCH:80/100 - Training Loss: 301.85637670257495, Validation Loss: 342.97421293712796\n",
            "EPOCH:81/100 - Training Loss: 301.5457934832516, Validation Loss: 343.67881789434523\n",
            "EPOCH:82/100 - Training Loss: 301.45783621485305, Validation Loss: 342.0557406470889\n",
            "EPOCH:83/100 - Training Loss: 301.14145088651014, Validation Loss: 343.83152058919273\n",
            "EPOCH:84/100 - Training Loss: 301.0608667997301, Validation Loss: 344.9201312837147\n",
            "EPOCH:85/100 - Training Loss: 301.0782664442404, Validation Loss: 342.55833551316033\n",
            "EPOCH:86/100 - Training Loss: 300.69055026470903, Validation Loss: 342.31176423572356\n",
            "EPOCH:87/100 - Training Loss: 300.41299735276397, Validation Loss: 342.67594255719865\n",
            "EPOCH:88/100 - Training Loss: 299.994641834341, Validation Loss: 343.93518705822174\n",
            "EPOCH:89/100 - Training Loss: 299.65381533092415, Validation Loss: 343.1997238885789\n",
            "EPOCH:90/100 - Training Loss: 299.6784202739561, Validation Loss: 344.0698182605562\n",
            "EPOCH:91/100 - Training Loss: 299.42487045688677, Validation Loss: 342.55768621535526\n",
            "EPOCH:92/100 - Training Loss: 299.67343762381836, Validation Loss: 342.58057963053386\n",
            "EPOCH:93/100 - Training Loss: 299.4291082668987, Validation Loss: 343.0853514171782\n",
            "EPOCH:94/100 - Training Loss: 298.7549351985813, Validation Loss: 342.6062337239583\n",
            "EPOCH:95/100 - Training Loss: 298.84328300457867, Validation Loss: 342.87363775344124\n",
            "EPOCH:96/100 - Training Loss: 298.7739530577011, Validation Loss: 343.083493187314\n",
            "EPOCH:97/100 - Training Loss: 298.6346764029637, Validation Loss: 342.8739230201358\n",
            "EPOCH:98/100 - Training Loss: 298.5141219546516, Validation Loss: 345.0363236200242\n",
            "EPOCH:99/100 - Training Loss: 298.3654787341279, Validation Loss: 344.1855701264881\n",
            "EPOCH:100/100 - Training Loss: 298.09610009022714, Validation Loss: 344.74727710542226\n"
          ]
        }
      ]
    },
    {
      "cell_type": "code",
      "source": [
        "file_name = f'mlp.csv'\n",
        "\n",
        "# predict and save csv file to SUBMISSION / file_name\n",
        "ytest = predict(model=model, xtest=xtest, valid_loss=valid_loss, file_name=file_name)"
      ],
      "metadata": {
        "colab": {
          "base_uri": "https://localhost:8080/"
        },
        "id": "CYZ-06bs5T4j",
        "outputId": "52bcdbe9-2023-4827-c33a-c16eb2b6116d"
      },
      "execution_count": null,
      "outputs": [
        {
          "output_type": "stream",
          "name": "stdout",
          "text": [
            "Best epoch is epoch: 21\n"
          ]
        }
      ]
    },
    {
      "cell_type": "code",
      "source": [
        ""
      ],
      "metadata": {
        "id": "z9XoPMY0joAv"
      },
      "execution_count": null,
      "outputs": []
    }
  ]
}
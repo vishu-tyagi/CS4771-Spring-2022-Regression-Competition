{
 "cells": [
  {
   "cell_type": "code",
   "execution_count": 1,
   "metadata": {},
   "outputs": [],
   "source": [
    "%reload_ext autoreload\n",
    "%autoreload 2"
   ]
  },
  {
   "cell_type": "code",
   "execution_count": 12,
   "metadata": {},
   "outputs": [],
   "source": [
    "import os\n",
    "import gc\n",
    "import logging\n",
    "from pathlib import Path\n",
    "PARENT_PATH = Path(os.getcwd()).parent.absolute()\n",
    "\n",
    "import numpy as np\n",
    "import pandas as pd\n",
    "import torch\n",
    "\n",
    "from dnn.config import DNNConfig\n",
    "from dnn.data_access import DataClass\n",
    "from dnn.features import Features\n",
    "from dnn.utils.constants import (\n",
    "    F0, TARGET, SPLIT, TRAIN, VAL, TEST, HOUR, DAY, MONTH\n",
    ")\n",
    "\n",
    "FORMAT = \"%(asctime)s - %(name)s - %(levelname)s - %(message)s\"\n",
    "logging.basicConfig(format=FORMAT, level=logging.INFO)"
   ]
  },
  {
   "cell_type": "code",
   "execution_count": 3,
   "metadata": {},
   "outputs": [],
   "source": [
    "config = DNNConfig()\n",
    "config.CURRENT_PATH = PARENT_PATH"
   ]
  },
  {
   "cell_type": "code",
   "execution_count": 4,
   "metadata": {},
   "outputs": [
    {
     "name": "stderr",
     "output_type": "stream",
     "text": [
      "2022-09-13 11:35:11,242 - dnn.data_access.fetch - INFO - Unpacking file {zip_file_path}\n",
      "2022-09-13 11:35:12,104 - dnn.utils.utils - INFO - func:unzip took: 0.86 sec\n",
      "2022-09-13 11:35:12,105 - dnn.data_access.fetch - INFO - Reading raw data into CSV for pre-processing\n",
      "2022-09-13 11:35:13,073 - dnn.data_access.fetch - INFO - Splitting data available for model-building into train and validation sets\n",
      "2022-09-13 11:35:19,327 - dnn.data_access.fetch - INFO - Saved CSV to /home/vtyagi/repos/CS4771-Spring-2022-Regression-Competition/data/data.csv\n",
      "2022-09-13 11:35:19,329 - dnn.data_access.fetch - INFO - Ready for pre-processing\n",
      "2022-09-13 11:35:19,398 - dnn.utils.utils - INFO - func:build took: 8.16 sec\n"
     ]
    }
   ],
   "source": [
    "data = DataClass(config)\n",
    "df = data.build()"
   ]
  },
  {
   "cell_type": "code",
   "execution_count": 5,
   "metadata": {},
   "outputs": [
    {
     "name": "stderr",
     "output_type": "stream",
     "text": [
      "2022-09-13 11:35:27,341 - dnn.features.features - INFO - Fitting processor on train set\n",
      "2022-09-13 11:35:27,693 - dnn.utils.utils - INFO - func:fit took: 0.27 sec\n",
      "2022-09-13 11:35:27,694 - dnn.features.features - INFO - Transforming data\n",
      "2022-09-13 11:35:31,109 - dnn.utils.utils - INFO - func:transform took: 3.41 sec\n",
      "2022-09-13 11:35:40,495 - dnn.utils.utils - INFO - func:build took: 14.52 sec\n"
     ]
    }
   ],
   "source": [
    "features = Features(config)\n",
    "df_features = features.build(df)"
   ]
  },
  {
   "cell_type": "code",
   "execution_count": 7,
   "metadata": {},
   "outputs": [
    {
     "data": {
      "text/plain": [
       "0"
      ]
     },
     "execution_count": 7,
     "metadata": {},
     "output_type": "execute_result"
    }
   ],
   "source": [
    "df = df_features.copy()\n",
    "del df_features\n",
    "gc.collect()"
   ]
  },
  {
   "cell_type": "code",
   "execution_count": 9,
   "metadata": {},
   "outputs": [],
   "source": [
    "X_train = df[df[SPLIT].isin([TRAIN])]\n",
    "Y_train = X_train[TARGET].values.reshape(-1,)\n",
    "X_train = X_train.drop(columns=[SPLIT, TARGET]).to_numpy()\n",
    "X_train = torch.from_numpy(X_train.astype(np.float32))\n",
    "Y_train = torch.from_numpy(Y_train.astype(np.float32))"
   ]
  },
  {
   "cell_type": "code",
   "execution_count": 13,
   "metadata": {},
   "outputs": [],
   "source": [
    "X_val = df[df[SPLIT].isin([VAL])]\n",
    "Y_val = X_val[TARGET].values.reshape(-1,)\n",
    "X_val = X_val.drop(columns=[SPLIT, TARGET]).to_numpy()\n",
    "X_val = torch.from_numpy(X_val.astype(np.float32))\n",
    "Y_val = torch.from_numpy(Y_val.astype(np.float32))"
   ]
  },
  {
   "cell_type": "code",
   "execution_count": 12,
   "metadata": {},
   "outputs": [
    {
     "data": {
      "text/plain": [
       "array([[-0.29412604,  0.73655927, -0.01109833, ...,  0.        ,\n",
       "         0.        ,  0.        ],\n",
       "       [-0.5162877 , -0.22668399, -0.01215354, ...,  0.        ,\n",
       "         0.        ,  0.        ],\n",
       "       [-0.61394118,  0.1825788 , -0.01235433, ...,  0.        ,\n",
       "         0.        ,  0.        ],\n",
       "       ...,\n",
       "       [-0.42595824,  0.69189453, -0.01182479, ...,  0.        ,\n",
       "         0.        ,  0.        ],\n",
       "       [-0.27215401, -1.21048876, -0.01094878, ...,  0.        ,\n",
       "         0.        ,  0.        ],\n",
       "       [-0.34783545,  0.74423295, -0.01142963, ...,  0.        ,\n",
       "         0.        ,  0.        ]])"
      ]
     },
     "execution_count": 12,
     "metadata": {},
     "output_type": "execute_result"
    }
   ],
   "source": [
    "X_test = df[df[SPLIT].isin([VAL])]\n",
    "X_test = X_test.drop(columns=[SPLIT, TARGET]).to_numpy()\n",
    "X_test = torch.from_numpy(X_test.astype(np.float32))\n",
    "\n"
   ]
  }
 ],
 "metadata": {
  "kernelspec": {
   "display_name": "Python 3.9.13 ('dnn')",
   "language": "python",
   "name": "python3"
  },
  "language_info": {
   "codemirror_mode": {
    "name": "ipython",
    "version": 3
   },
   "file_extension": ".py",
   "mimetype": "text/x-python",
   "name": "python",
   "nbconvert_exporter": "python",
   "pygments_lexer": "ipython3",
   "version": "3.9.13"
  },
  "orig_nbformat": 4,
  "vscode": {
   "interpreter": {
    "hash": "d0b278ae49555db665c69a1bcb35fe35602001a3cfa71a61c0ab99442cba84f6"
   }
  }
 },
 "nbformat": 4,
 "nbformat_minor": 2
}

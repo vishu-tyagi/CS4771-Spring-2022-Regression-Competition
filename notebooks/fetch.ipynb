{
 "cells": [
  {
   "cell_type": "code",
   "execution_count": 1,
   "metadata": {},
   "outputs": [],
   "source": [
    "%reload_ext autoreload\n",
    "%autoreload 2"
   ]
  },
  {
   "cell_type": "code",
   "execution_count": 2,
   "metadata": {},
   "outputs": [],
   "source": [
    "import os\n",
    "import gc\n",
    "import logging\n",
    "from pathlib import Path\n",
    "PARENT_PATH = Path(os.getcwd()).parent.absolute()\n",
    "\n",
    "import numpy as np\n",
    "import pandas as pd\n",
    "import torch\n",
    "\n",
    "from dnn.config import DNNConfig\n",
    "from dnn.data_access import DataClass\n",
    "from dnn.features import Features\n",
    "from dnn.model import Model\n",
    "from dnn.utils.constants import (\n",
    "    F0, TARGET, SPLIT, TRAIN, VAL, TEST, HOUR, DAY, MONTH\n",
    ")\n",
    "\n",
    "FORMAT = \"%(asctime)s - %(name)s - %(levelname)s - %(message)s\"\n",
    "logging.basicConfig(format=FORMAT, level=logging.INFO)"
   ]
  },
  {
   "cell_type": "code",
   "execution_count": 3,
   "metadata": {},
   "outputs": [],
   "source": [
    "config = DNNConfig()\n",
    "config.CURRENT_PATH = PARENT_PATH"
   ]
  },
  {
   "cell_type": "code",
   "execution_count": 4,
   "metadata": {},
   "outputs": [
    {
     "name": "stderr",
     "output_type": "stream",
     "text": [
      "2022-09-14 01:12:22,482 - dnn.data_access.fetch - INFO - Unpacking file {zip_file_path}\n",
      "2022-09-14 01:12:23,234 - dnn.utils.utils - INFO - func:unzip took: 0.75 sec\n",
      "2022-09-14 01:12:23,235 - dnn.data_access.fetch - INFO - Reading raw data into CSV for pre-processing\n",
      "2022-09-14 01:12:24,304 - dnn.data_access.fetch - INFO - Splitting data available for model-building into train and validation sets\n",
      "2022-09-14 01:12:30,869 - dnn.data_access.fetch - INFO - Saved CSV to /home/vtyagi/repos/CS4771-Spring-2022-Regression-Competition/data/data.csv\n",
      "2022-09-14 01:12:30,870 - dnn.data_access.fetch - INFO - Ready for pre-processing\n",
      "2022-09-14 01:12:30,971 - dnn.utils.utils - INFO - func:build took: 8.49 sec\n"
     ]
    }
   ],
   "source": [
    "data = DataClass(config)\n",
    "data.make_dirs()\n",
    "df = data.build()"
   ]
  },
  {
   "cell_type": "code",
   "execution_count": 5,
   "metadata": {},
   "outputs": [
    {
     "name": "stderr",
     "output_type": "stream",
     "text": [
      "2022-09-14 01:12:32,534 - dnn.features.features - INFO - Fitting processor on train set\n",
      "2022-09-14 01:12:32,853 - dnn.utils.utils - INFO - func:fit took: 0.26 sec\n",
      "2022-09-14 01:12:32,854 - dnn.features.features - INFO - Transforming data\n",
      "2022-09-14 01:12:36,240 - dnn.utils.utils - INFO - func:transform took: 3.38 sec\n",
      "2022-09-14 01:12:47,480 - dnn.utils.utils - INFO - func:build took: 16.33 sec\n"
     ]
    }
   ],
   "source": [
    "features = Features(config)\n",
    "df_features = features.build(df)"
   ]
  },
  {
   "cell_type": "code",
   "execution_count": 9,
   "metadata": {},
   "outputs": [],
   "source": [
    "model = Model(config)"
   ]
  },
  {
   "cell_type": "code",
   "execution_count": 7,
   "metadata": {},
   "outputs": [],
   "source": [
    "train = df_features[df_features[SPLIT].isin([TRAIN])][0:3000].copy()\n",
    "val = df_features[df_features[SPLIT].isin([VAL])][0:3000].copy()\n",
    "test = df_features[df_features[SPLIT].isin([TEST])][0:3000].copy()\n",
    "\n",
    "pf = pd.concat([train, val, test], ignore_index=True)"
   ]
  },
  {
   "cell_type": "code",
   "execution_count": 10,
   "metadata": {},
   "outputs": [
    {
     "name": "stderr",
     "output_type": "stream",
     "text": [
      "2022-09-14 01:22:07,870 - dnn.model.core - INFO - Training model\n",
      "2022-09-14 01:22:07,886 - dnn.model.core - INFO - Number of features: 610\n",
      "2022-09-14 01:22:07,886 - dnn.model.core - INFO - Number of training samples: 3000\n",
      "2022-09-14 01:22:07,887 - dnn.model.core - INFO - Number of validation samples: 3000\n"
     ]
    },
    {
     "name": "stdout",
     "output_type": "stream",
     "text": [
      "EPOCH:1/100, step:4/3, loss=1071.1338\r"
     ]
    },
    {
     "ename": "FileNotFoundError",
     "evalue": "[Errno 2] No such file or directory: '/home/vtyagi/repos/CS4771-Spring-2022-Regression-Competition/model/mlp_epoch_001.pth'",
     "output_type": "error",
     "traceback": [
      "\u001b[0;31m---------------------------------------------------------------------------\u001b[0m",
      "\u001b[0;31mFileNotFoundError\u001b[0m                         Traceback (most recent call last)",
      "Cell \u001b[0;32mIn [10], line 1\u001b[0m\n\u001b[0;32m----> 1\u001b[0m \u001b[43mmodel\u001b[49m\u001b[38;5;241;43m.\u001b[39;49m\u001b[43mbuild\u001b[49m\u001b[43m(\u001b[49m\u001b[43mpf\u001b[49m\u001b[43m)\u001b[49m\n",
      "File \u001b[0;32m~/repos/CS4771-Spring-2022-Regression-Competition/src/dnn/dnn/model/core.py:97\u001b[0m, in \u001b[0;36mModel.build\u001b[0;34m(self, df)\u001b[0m\n\u001b[1;32m     94\u001b[0m X_val \u001b[39m=\u001b[39m X_val\u001b[39m.\u001b[39mdrop(columns\u001b[39m=\u001b[39m[SPLIT, TARGET])\n\u001b[1;32m     96\u001b[0m logger\u001b[39m.\u001b[39minfo(\u001b[39m\"\u001b[39m\u001b[39mTraining model\u001b[39m\u001b[39m\"\u001b[39m)\n\u001b[0;32m---> 97\u001b[0m \u001b[39mself\u001b[39;49m\u001b[39m.\u001b[39;49mtrain(X_train, Y_train, X_val, Y_val)\n\u001b[1;32m     99\u001b[0m \u001b[39m# logger.info(\"Computing feature importances\")\u001b[39;00m\n\u001b[1;32m    100\u001b[0m \u001b[39m# self.compute_feature_importances()\u001b[39;00m\n\u001b[1;32m    101\u001b[0m \n\u001b[0;32m   (...)\u001b[0m\n\u001b[1;32m    126\u001b[0m \u001b[39m# logger.info(f\"F1 Score on test set at: {scores['F1']:0.2f}\")\u001b[39;00m\n\u001b[1;32m    127\u001b[0m \u001b[39m# logger.info(f\"Accuracy on test set: {scores['Accuracy']:0.2f}\")\u001b[39;00m\n\u001b[1;32m    129\u001b[0m \u001b[39mreturn\u001b[39;00m \u001b[39mself\u001b[39m\n",
      "File \u001b[0;32m~/repos/CS4771-Spring-2022-Regression-Competition/src/dnn/dnn/utils/utils.py:19\u001b[0m, in \u001b[0;36mtiming.<locals>.wrap\u001b[0;34m(*args, **kw)\u001b[0m\n\u001b[1;32m     16\u001b[0m \u001b[39m@wraps\u001b[39m(f)\n\u001b[1;32m     17\u001b[0m \u001b[39mdef\u001b[39;00m \u001b[39mwrap\u001b[39m(\u001b[39m*\u001b[39margs, \u001b[39m*\u001b[39m\u001b[39m*\u001b[39mkw):\n\u001b[1;32m     18\u001b[0m     ts \u001b[39m=\u001b[39m time()\n\u001b[0;32m---> 19\u001b[0m     result \u001b[39m=\u001b[39m f(\u001b[39m*\u001b[39;49margs, \u001b[39m*\u001b[39;49m\u001b[39m*\u001b[39;49mkw)\n\u001b[1;32m     20\u001b[0m     te \u001b[39m=\u001b[39m time()\n\u001b[1;32m     22\u001b[0m     time_taken \u001b[39m=\u001b[39m te \u001b[39m-\u001b[39m ts\n",
      "File \u001b[0;32m~/repos/CS4771-Spring-2022-Regression-Competition/src/dnn/dnn/model/core.py:178\u001b[0m, in \u001b[0;36mModel.train\u001b[0;34m(***failed resolving arguments***)\u001b[0m\n\u001b[1;32m    175\u001b[0m \u001b[39mdel\u001b[39;00m X_train, Y_train, X_val, Y_val, train, val\n\u001b[1;32m    176\u001b[0m gc\u001b[39m.\u001b[39mcollect()\n\u001b[0;32m--> 178\u001b[0m val_loss \u001b[39m=\u001b[39m \u001b[39mself\u001b[39;49m\u001b[39m.\u001b[39;49m_train(train_loader, val_loader)\n\u001b[1;32m    179\u001b[0m \u001b[39mreturn\u001b[39;00m \u001b[39mself\u001b[39m\n",
      "File \u001b[0;32m~/repos/CS4771-Spring-2022-Regression-Competition/src/dnn/dnn/model/core.py:233\u001b[0m, in \u001b[0;36mModel._train\u001b[0;34m(self, train_loader, val_loader)\u001b[0m\n\u001b[1;32m    231\u001b[0m     model_state \u001b[39m=\u001b[39m \u001b[39mf\u001b[39m\u001b[39m\"\u001b[39m\u001b[39m{\u001b[39;00m\u001b[39mself\u001b[39m\u001b[39m.\u001b[39m_model\u001b[39m.\u001b[39mname\u001b[39m}\u001b[39;00m\u001b[39m_epoch_\u001b[39m\u001b[39m{\u001b[39;00mepoch\u001b[39m+\u001b[39m\u001b[39m1\u001b[39m\u001b[39m:\u001b[39;00m\u001b[39m03\u001b[39m\u001b[39m}\u001b[39;00m\u001b[39m.pth\u001b[39m\u001b[39m\"\u001b[39m\n\u001b[1;32m    232\u001b[0m     model_state_path \u001b[39m=\u001b[39m os\u001b[39m.\u001b[39mpath\u001b[39m.\u001b[39mjoin(os\u001b[39m.\u001b[39mpath\u001b[39m.\u001b[39mjoin(\u001b[39mself\u001b[39m\u001b[39m.\u001b[39mmodel_path, model_state))\n\u001b[0;32m--> 233\u001b[0m     torch\u001b[39m.\u001b[39;49msave(\u001b[39mself\u001b[39;49m\u001b[39m.\u001b[39;49m_model\u001b[39m.\u001b[39;49mstate_dict(), model_state_path)\n\u001b[1;32m    234\u001b[0m     \u001b[39mprint\u001b[39m(\n\u001b[1;32m    235\u001b[0m         \u001b[39mf\u001b[39m\u001b[39m\"\u001b[39m\u001b[39mEPOCH:\u001b[39m\u001b[39m{\u001b[39;00mepoch\u001b[39m+\u001b[39m\u001b[39m1\u001b[39m\u001b[39m}\u001b[39;00m\u001b[39m/\u001b[39m\u001b[39m{\u001b[39;00m\u001b[39mself\u001b[39m\u001b[39m.\u001b[39mepochs\u001b[39m}\u001b[39;00m\u001b[39m - Training Loss: \u001b[39m\u001b[39m{\u001b[39;00mtrain_loss[\u001b[39m-\u001b[39m\u001b[39m1\u001b[39m]\u001b[39m:\u001b[39;00m\u001b[39m.4f\u001b[39m\u001b[39m}\u001b[39;00m\u001b[39m, Validation Loss: \u001b[39m\u001b[39m{\u001b[39;00mval_loss[\u001b[39m-\u001b[39m\u001b[39m1\u001b[39m]\u001b[39m:\u001b[39;00m\u001b[39m.4f\u001b[39m\u001b[39m}\u001b[39;00m\u001b[39m\"\u001b[39m\n\u001b[1;32m    236\u001b[0m     )\n\u001b[1;32m    237\u001b[0m \u001b[39mreturn\u001b[39;00m val_loss\n",
      "File \u001b[0;32m~/miniconda3/envs/dnn/lib/python3.9/site-packages/torch/serialization.py:376\u001b[0m, in \u001b[0;36msave\u001b[0;34m(obj, f, pickle_module, pickle_protocol, _use_new_zipfile_serialization)\u001b[0m\n\u001b[1;32m    340\u001b[0m \u001b[39m\"\"\"save(obj, f, pickle_module=pickle, pickle_protocol=DEFAULT_PROTOCOL, _use_new_zipfile_serialization=True)\u001b[39;00m\n\u001b[1;32m    341\u001b[0m \n\u001b[1;32m    342\u001b[0m \u001b[39mSaves an object to a disk file.\u001b[39;00m\n\u001b[0;32m   (...)\u001b[0m\n\u001b[1;32m    372\u001b[0m \u001b[39m    >>> torch.save(x, buffer)\u001b[39;00m\n\u001b[1;32m    373\u001b[0m \u001b[39m\"\"\"\u001b[39;00m\n\u001b[1;32m    374\u001b[0m _check_dill_version(pickle_module)\n\u001b[0;32m--> 376\u001b[0m \u001b[39mwith\u001b[39;00m _open_file_like(f, \u001b[39m'\u001b[39;49m\u001b[39mwb\u001b[39;49m\u001b[39m'\u001b[39;49m) \u001b[39mas\u001b[39;00m opened_file:\n\u001b[1;32m    377\u001b[0m     \u001b[39mif\u001b[39;00m _use_new_zipfile_serialization:\n\u001b[1;32m    378\u001b[0m         \u001b[39mwith\u001b[39;00m _open_zipfile_writer(opened_file) \u001b[39mas\u001b[39;00m opened_zipfile:\n",
      "File \u001b[0;32m~/miniconda3/envs/dnn/lib/python3.9/site-packages/torch/serialization.py:230\u001b[0m, in \u001b[0;36m_open_file_like\u001b[0;34m(name_or_buffer, mode)\u001b[0m\n\u001b[1;32m    228\u001b[0m \u001b[39mdef\u001b[39;00m \u001b[39m_open_file_like\u001b[39m(name_or_buffer, mode):\n\u001b[1;32m    229\u001b[0m     \u001b[39mif\u001b[39;00m _is_path(name_or_buffer):\n\u001b[0;32m--> 230\u001b[0m         \u001b[39mreturn\u001b[39;00m _open_file(name_or_buffer, mode)\n\u001b[1;32m    231\u001b[0m     \u001b[39melse\u001b[39;00m:\n\u001b[1;32m    232\u001b[0m         \u001b[39mif\u001b[39;00m \u001b[39m'\u001b[39m\u001b[39mw\u001b[39m\u001b[39m'\u001b[39m \u001b[39min\u001b[39;00m mode:\n",
      "File \u001b[0;32m~/miniconda3/envs/dnn/lib/python3.9/site-packages/torch/serialization.py:211\u001b[0m, in \u001b[0;36m_open_file.__init__\u001b[0;34m(self, name, mode)\u001b[0m\n\u001b[1;32m    210\u001b[0m \u001b[39mdef\u001b[39;00m \u001b[39m__init__\u001b[39m(\u001b[39mself\u001b[39m, name, mode):\n\u001b[0;32m--> 211\u001b[0m     \u001b[39msuper\u001b[39m(_open_file, \u001b[39mself\u001b[39m)\u001b[39m.\u001b[39m\u001b[39m__init__\u001b[39m(\u001b[39mopen\u001b[39;49m(name, mode))\n",
      "\u001b[0;31mFileNotFoundError\u001b[0m: [Errno 2] No such file or directory: '/home/vtyagi/repos/CS4771-Spring-2022-Regression-Competition/model/mlp_epoch_001.pth'"
     ]
    }
   ],
   "source": [
    "model.build(pf)"
   ]
  }
 ],
 "metadata": {
  "kernelspec": {
   "display_name": "Python 3.9.13 ('dnn')",
   "language": "python",
   "name": "python3"
  },
  "language_info": {
   "codemirror_mode": {
    "name": "ipython",
    "version": 3
   },
   "file_extension": ".py",
   "mimetype": "text/x-python",
   "name": "python",
   "nbconvert_exporter": "python",
   "pygments_lexer": "ipython3",
   "version": "3.9.13"
  },
  "orig_nbformat": 4,
  "vscode": {
   "interpreter": {
    "hash": "d0b278ae49555db665c69a1bcb35fe35602001a3cfa71a61c0ab99442cba84f6"
   }
  }
 },
 "nbformat": 4,
 "nbformat_minor": 2
}

{
 "cells": [
  {
   "cell_type": "code",
   "execution_count": 1,
   "metadata": {},
   "outputs": [],
   "source": [
    "%reload_ext autoreload\n",
    "%autoreload 2"
   ]
  },
  {
   "cell_type": "code",
   "execution_count": 2,
   "metadata": {},
   "outputs": [],
   "source": [
    "import os\n",
    "import logging\n",
    "from pathlib import Path\n",
    "PARENT_PATH = Path(os.getcwd()).parent.absolute()\n",
    "\n",
    "import numpy as np\n",
    "import pandas as pd\n",
    "\n",
    "from dnn.config import DNNConfig\n",
    "from dnn.data_access import DataClass\n",
    "from dnn.features import Features\n",
    "from dnn.utils.constants import (\n",
    "    F0, TARGET, SPLIT, TRAIN, HOUR, DAY, MONTH\n",
    ")\n",
    "\n",
    "\n",
    "FORMAT = \"%(asctime)s - %(name)s - %(levelname)s - %(message)s\"\n",
    "logging.basicConfig(format=FORMAT, level=logging.INFO)"
   ]
  },
  {
   "cell_type": "code",
   "execution_count": 3,
   "metadata": {},
   "outputs": [],
   "source": [
    "config = DNNConfig()\n",
    "config.CURRENT_PATH = PARENT_PATH"
   ]
  },
  {
   "cell_type": "code",
   "execution_count": 4,
   "metadata": {},
   "outputs": [
    {
     "name": "stderr",
     "output_type": "stream",
     "text": [
      "2022-09-13 00:39:05,195 - dnn.data_access.fetch - INFO - Unpacking file {zip_file_path}\n",
      "2022-09-13 00:39:05,563 - dnn.utils.utils - INFO - func:unzip took: 0.37 sec\n",
      "2022-09-13 00:39:05,563 - dnn.data_access.fetch - INFO - Reading raw data into CSV for pre-processing\n",
      "2022-09-13 00:39:06,709 - dnn.data_access.fetch - INFO - Splitting data available for model-building into train and validation sets\n",
      "2022-09-13 00:39:12,127 - dnn.data_access.fetch - INFO - Saved CSV to /Users/vishweshwartyagi/repos/CS4771-Spring-2022-Regression-Competition/data/data.csv\n",
      "2022-09-13 00:39:12,127 - dnn.data_access.fetch - INFO - Ready for pre-processing\n",
      "2022-09-13 00:39:12,258 - dnn.utils.utils - INFO - func:build took: 7.06 sec\n"
     ]
    }
   ],
   "source": [
    "data = DataClass(config)\n",
    "df = data.build()"
   ]
  },
  {
   "cell_type": "code",
   "execution_count": 5,
   "metadata": {},
   "outputs": [
    {
     "name": "stderr",
     "output_type": "stream",
     "text": [
      "2022-09-13 00:39:13,692 - dnn.features.features - INFO - Fitting processor on train set\n",
      "2022-09-13 00:39:14,079 - dnn.utils.utils - INFO - func:fit took: 0.31 sec\n",
      "2022-09-13 00:39:14,080 - dnn.features.features - INFO - Transforming data\n",
      "2022-09-13 00:39:15,829 - dnn.utils.utils - INFO - func:transform took: 1.74 sec\n",
      "2022-09-13 00:39:37,022 - dnn.utils.utils - INFO - func:build took: 24.66 sec\n"
     ]
    }
   ],
   "source": [
    "features = Features(config)\n",
    "df_features = features.build(df)"
   ]
  },
  {
   "cell_type": "code",
   "execution_count": 6,
   "metadata": {},
   "outputs": [],
   "source": [
    "df = df_features.copy()"
   ]
  },
  {
   "cell_type": "code",
   "execution_count": 9,
   "metadata": {},
   "outputs": [],
   "source": [
    "X_train = df[df[SPLIT].isin([TRAIN])]\n",
    "Y_train = X_train[TARGET].values\n",
    "X_train = X_train.drop(columns=[SPLIT, TARGET]).to_numpy()\n",
    "X_train = torch.from_numpy(X_train.astype(np.float32))"
   ]
  },
  {
   "cell_type": "code",
   "execution_count": 12,
   "metadata": {},
   "outputs": [
    {
     "data": {
      "text/plain": [
       "array([[-0.29412604,  0.73655927, -0.01109833, ...,  0.        ,\n",
       "         0.        ,  0.        ],\n",
       "       [-0.5162877 , -0.22668399, -0.01215354, ...,  0.        ,\n",
       "         0.        ,  0.        ],\n",
       "       [-0.61394118,  0.1825788 , -0.01235433, ...,  0.        ,\n",
       "         0.        ,  0.        ],\n",
       "       ...,\n",
       "       [-0.42595824,  0.69189453, -0.01182479, ...,  0.        ,\n",
       "         0.        ,  0.        ],\n",
       "       [-0.27215401, -1.21048876, -0.01094878, ...,  0.        ,\n",
       "         0.        ,  0.        ],\n",
       "       [-0.34783545,  0.74423295, -0.01142963, ...,  0.        ,\n",
       "         0.        ,  0.        ]])"
      ]
     },
     "execution_count": 12,
     "metadata": {},
     "output_type": "execute_result"
    }
   ],
   "source": [
    "X_train.to_numpy()"
   ]
  }
 ],
 "metadata": {
  "kernelspec": {
   "display_name": "Python 3.9.13 ('dnn')",
   "language": "python",
   "name": "python3"
  },
  "language_info": {
   "codemirror_mode": {
    "name": "ipython",
    "version": 3
   },
   "file_extension": ".py",
   "mimetype": "text/x-python",
   "name": "python",
   "nbconvert_exporter": "python",
   "pygments_lexer": "ipython3",
   "version": "3.9.13"
  },
  "orig_nbformat": 4,
  "vscode": {
   "interpreter": {
    "hash": "aedd371cf0acb8c798d76a9ea12657db0e55cabe0e8508de20f15c99df167c17"
   }
  }
 },
 "nbformat": 4,
 "nbformat_minor": 2
}

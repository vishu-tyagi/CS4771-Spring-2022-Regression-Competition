{
 "cells": [
  {
   "cell_type": "code",
   "execution_count": 1,
   "metadata": {},
   "outputs": [],
   "source": [
    "%reload_ext autoreload\n",
    "%autoreload 2"
   ]
  },
  {
   "cell_type": "code",
   "execution_count": 2,
   "metadata": {},
   "outputs": [],
   "source": [
    "import os\n",
    "import logging\n",
    "from pathlib import Path\n",
    "PARENT_PATH = Path(os.getcwd()).parent.absolute()\n",
    "\n",
    "from dnn.config import DNNConfig\n",
    "from dnn.data_access import DataClass\n",
    "from dnn.features import Features\n",
    "from dnn.model import Model\n",
    "\n",
    "FORMAT = \"%(asctime)s - %(name)s - %(levelname)s - %(message)s\"\n",
    "logging.basicConfig(format=FORMAT, level=logging.INFO)"
   ]
  },
  {
   "cell_type": "markdown",
   "metadata": {},
   "source": [
    "##### Build config"
   ]
  },
  {
   "cell_type": "code",
   "execution_count": 3,
   "metadata": {},
   "outputs": [],
   "source": [
    "config = DNNConfig()\n",
    "config.CURRENT_PATH = PARENT_PATH"
   ]
  },
  {
   "cell_type": "markdown",
   "metadata": {},
   "source": [
    "#### Parse raw data for pre-processing"
   ]
  },
  {
   "cell_type": "code",
   "execution_count": 4,
   "metadata": {},
   "outputs": [
    {
     "name": "stderr",
     "output_type": "stream",
     "text": [
      "2022-09-15 01:00:31,602 - dnn.data_access.fetch - INFO - Created model directory /home/vtyagi/repos/CS4771-Spring-2022-Regression-Competition/model\n",
      "2022-09-15 01:00:31,603 - dnn.data_access.fetch - INFO - Created reports directory /home/vtyagi/repos/CS4771-Spring-2022-Regression-Competition/reports\n",
      "2022-09-15 01:00:31,605 - dnn.data_access.fetch - INFO - Once unzipped, raw data will be available here: /home/vtyagi/repos/CS4771-Spring-2022-Regression-Competition/data/raw\n",
      "2022-09-15 01:00:31,606 - dnn.data_access.fetch - INFO - Unpacking file {zip_file_path}\n",
      "2022-09-15 01:00:32,354 - dnn.utils.utils - INFO - func:unzip took: 0.75 sec\n",
      "2022-09-15 01:00:32,355 - dnn.data_access.fetch - INFO - Reading raw data into CSV for pre-processing\n",
      "2022-09-15 01:00:33,719 - dnn.data_access.fetch - INFO - Splitting data available for model-building into train and validation sets\n",
      "2022-09-15 01:00:41,230 - dnn.data_access.fetch - INFO - Saved CSV to /home/vtyagi/repos/CS4771-Spring-2022-Regression-Competition/data/data.csv\n",
      "2022-09-15 01:00:41,231 - dnn.data_access.fetch - INFO - Ready for pre-processing\n",
      "2022-09-15 01:00:41,374 - dnn.utils.utils - INFO - func:build took: 9.77 sec\n"
     ]
    }
   ],
   "source": [
    "data = DataClass(config)\n",
    "data.make_dirs()\n",
    "df = data.build()"
   ]
  },
  {
   "cell_type": "markdown",
   "metadata": {},
   "source": [
    "#### Preprocess and build features"
   ]
  },
  {
   "cell_type": "code",
   "execution_count": 5,
   "metadata": {},
   "outputs": [
    {
     "name": "stderr",
     "output_type": "stream",
     "text": [
      "2022-09-15 01:00:43,047 - dnn.features.features - INFO - Fitting processor on train set\n",
      "2022-09-15 01:00:43,396 - dnn.utils.utils - INFO - func:fit took: 0.29 sec\n",
      "2022-09-15 01:00:43,397 - dnn.features.features - INFO - Transforming data\n",
      "2022-09-15 01:00:47,198 - dnn.utils.utils - INFO - func:transform took: 3.79 sec\n",
      "2022-09-15 01:01:04,228 - dnn.utils.utils - INFO - func:build took: 22.65 sec\n"
     ]
    }
   ],
   "source": [
    "features = Features(config)\n",
    "df_features = features.build(df)"
   ]
  },
  {
   "cell_type": "markdown",
   "metadata": {},
   "source": [
    "#### Train model and generate submission file"
   ]
  },
  {
   "cell_type": "code",
   "execution_count": 6,
   "metadata": {},
   "outputs": [
    {
     "name": "stderr",
     "output_type": "stream",
     "text": [
      "2022-09-15 01:01:06,369 - dnn.model.core - INFO - Training model\n",
      "2022-09-15 01:01:06,381 - dnn.model.core - INFO - Number of features: 610\n",
      "2022-09-15 01:01:06,382 - dnn.model.core - INFO - Number of training samples: 320000\n",
      "2022-09-15 01:01:06,384 - dnn.model.core - INFO - Number of validation samples: 80000\n",
      "EPOCH:1/50 - Training Loss: 433.6363, Validation Loss: 375.0902\n",
      "EPOCH:2/50 - Training Loss: 353.9997, Validation Loss: 355.1570\n",
      "EPOCH:3/50 - Training Loss: 344.1858, Validation Loss: 349.0168\n",
      "EPOCH:4/50 - Training Loss: 339.3187, Validation Loss: 347.0388\n",
      "EPOCH:5/50 - Training Loss: 336.3177, Validation Loss: 346.9173\n",
      "EPOCH:6/50 - Training Loss: 334.6770, Validation Loss: 349.7823\n",
      "EPOCH:7/50 - Training Loss: 332.6425, Validation Loss: 345.4816\n",
      "EPOCH:8/50 - Training Loss: 330.8800, Validation Loss: 341.6853\n",
      "EPOCH:9/50 - Training Loss: 329.5342, Validation Loss: 342.6322\n",
      "EPOCH:10/50 - Training Loss: 327.9129, Validation Loss: 343.9199\n",
      "EPOCH:11/50 - Training Loss: 327.4806, Validation Loss: 345.5538\n",
      "EPOCH:12/50 - Training Loss: 326.1324, Validation Loss: 345.4379\n",
      "EPOCH:13/50 - Training Loss: 325.5175, Validation Loss: 341.6086\n",
      "EPOCH:14/50 - Training Loss: 324.5607, Validation Loss: 347.2887\n",
      "EPOCH:15/50 - Training Loss: 323.6038, Validation Loss: 344.0377\n",
      "EPOCH:16/50 - Training Loss: 323.2942, Validation Loss: 339.9925\n",
      "EPOCH:17/50 - Training Loss: 322.0490, Validation Loss: 341.0159\n",
      "EPOCH:18/50 - Training Loss: 321.4748, Validation Loss: 341.4338\n",
      "EPOCH:19/50 - Training Loss: 321.3352, Validation Loss: 341.9715\n",
      "EPOCH:20/50 - Training Loss: 320.5956, Validation Loss: 340.2088\n",
      "EPOCH:21/50 - Training Loss: 319.7865, Validation Loss: 340.5070\n",
      "EPOCH:22/50 - Training Loss: 319.0444, Validation Loss: 340.2995\n",
      "EPOCH:23/50 - Training Loss: 318.8729, Validation Loss: 340.2378\n",
      "EPOCH:24/50 - Training Loss: 317.7856, Validation Loss: 343.3587\n",
      "EPOCH:25/50 - Training Loss: 317.9725, Validation Loss: 340.4951\n",
      "EPOCH:26/50 - Training Loss: 317.5942, Validation Loss: 340.0144\n",
      "EPOCH:27/50 - Training Loss: 316.8388, Validation Loss: 340.6886\n",
      "EPOCH:28/50 - Training Loss: 316.4790, Validation Loss: 339.8805\n",
      "EPOCH:29/50 - Training Loss: 315.3799, Validation Loss: 341.4431\n",
      "EPOCH:30/50 - Training Loss: 315.2987, Validation Loss: 340.2078\n",
      "EPOCH:31/50 - Training Loss: 315.1360, Validation Loss: 341.8580\n",
      "EPOCH:32/50 - Training Loss: 314.3394, Validation Loss: 340.5320\n",
      "EPOCH:33/50 - Training Loss: 313.6969, Validation Loss: 343.7722\n",
      "EPOCH:34/50 - Training Loss: 313.4419, Validation Loss: 341.8064\n",
      "EPOCH:35/50 - Training Loss: 313.6047, Validation Loss: 341.7722\n",
      "EPOCH:36/50 - Training Loss: 312.9544, Validation Loss: 340.5884\n",
      "EPOCH:37/50 - Training Loss: 312.4209, Validation Loss: 341.9055\n",
      "EPOCH:38/50 - Training Loss: 311.8532, Validation Loss: 340.3506\n",
      "EPOCH:39/50 - Training Loss: 311.8083, Validation Loss: 341.0140\n",
      "EPOCH:40/50 - Training Loss: 311.0040, Validation Loss: 342.6425\n",
      "EPOCH:41/50 - Training Loss: 311.3739, Validation Loss: 340.9264\n",
      "EPOCH:42/50 - Training Loss: 310.6619, Validation Loss: 340.4636\n",
      "EPOCH:43/50 - Training Loss: 310.3750, Validation Loss: 341.3678\n",
      "EPOCH:44/50 - Training Loss: 310.3906, Validation Loss: 341.1533\n",
      "EPOCH:45/50 - Training Loss: 309.5605, Validation Loss: 340.9199\n",
      "EPOCH:46/50 - Training Loss: 309.3826, Validation Loss: 340.9066\n",
      "EPOCH:47/50 - Training Loss: 309.1797, Validation Loss: 341.3381\n",
      "EPOCH:48/50 - Training Loss: 308.7997, Validation Loss: 341.1272\n",
      "EPOCH:49/50 - Training Loss: 308.4279, Validation Loss: 340.9524\n",
      "EPOCH:50/50 - Training Loss: 308.0338, Validation Loss: 340.9977\n",
      "2022-09-15 01:06:43,255 - dnn.model.core - INFO - Best epoch: 28\n",
      "2022-09-15 01:06:43,267 - dnn.utils.utils - INFO - func:train took: 5 min and36.90 sec\n",
      "2022-09-15 01:06:43,268 - dnn.model.core - INFO - Predicting on test set\n",
      "2022-09-15 01:06:44,530 - dnn.utils.utils - INFO - func:predict took: 0.81 sec\n",
      "2022-09-15 01:06:44,532 - dnn.model.core - INFO - Generating submission for kaggle competition\n",
      "2022-09-15 01:06:44,739 - dnn.model.core - INFO - Submission file saved to /home/vtyagi/repos/CS4771-Spring-2022-Regression-Competition/reports/submission.csv\n",
      "2022-09-15 01:06:44,756 - dnn.utils.utils - INFO - func:build took: 5 min and40.14 sec\n"
     ]
    }
   ],
   "source": [
    "model = Model(config)\n",
    "model.build(df_features)"
   ]
  },
  {
   "cell_type": "markdown",
   "metadata": {},
   "source": [
    "#### Save features and model"
   ]
  },
  {
   "cell_type": "code",
   "execution_count": 7,
   "metadata": {},
   "outputs": [
    {
     "name": "stderr",
     "output_type": "stream",
     "text": [
      "2022-09-15 01:06:44,901 - dnn.features.features - INFO - Saving processor to /home/vtyagi/repos/CS4771-Spring-2022-Regression-Competition/model/processor.pickle\n",
      "2022-09-15 01:06:44,903 - dnn.model.core - INFO - Saving model state dictionary to /home/vtyagi/repos/CS4771-Spring-2022-Regression-Competition/model/mlp.pth\n",
      "2022-09-15 01:06:44,922 - dnn.model.core - INFO - Saving model parameters to /home/vtyagi/repos/CS4771-Spring-2022-Regression-Competition/model/mlp_params.json\n",
      "2022-09-15 01:06:44,924 - dnn.utils.utils - INFO - func:save took: 0.02 sec\n"
     ]
    }
   ],
   "source": [
    "features.save()\n",
    "model.save()"
   ]
  },
  {
   "cell_type": "code",
   "execution_count": null,
   "metadata": {},
   "outputs": [],
   "source": []
  }
 ],
 "metadata": {
  "kernelspec": {
   "display_name": "Python 3.9.13 ('dnn')",
   "language": "python",
   "name": "python3"
  },
  "language_info": {
   "codemirror_mode": {
    "name": "ipython",
    "version": 3
   },
   "file_extension": ".py",
   "mimetype": "text/x-python",
   "name": "python",
   "nbconvert_exporter": "python",
   "pygments_lexer": "ipython3",
   "version": "3.9.13"
  },
  "orig_nbformat": 4,
  "vscode": {
   "interpreter": {
    "hash": "d0b278ae49555db665c69a1bcb35fe35602001a3cfa71a61c0ab99442cba84f6"
   }
  }
 },
 "nbformat": 4,
 "nbformat_minor": 2
}

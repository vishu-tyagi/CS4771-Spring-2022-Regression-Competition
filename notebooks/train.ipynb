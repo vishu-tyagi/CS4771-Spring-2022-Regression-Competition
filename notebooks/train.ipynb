{
 "cells": [
  {
   "cell_type": "code",
   "execution_count": 1,
   "metadata": {},
   "outputs": [],
   "source": [
    "%reload_ext autoreload\n",
    "%autoreload 2"
   ]
  },
  {
   "cell_type": "code",
   "execution_count": 2,
   "metadata": {},
   "outputs": [],
   "source": [
    "import os\n",
    "import logging\n",
    "from pathlib import Path\n",
    "PARENT_PATH = Path(os.getcwd()).parent.absolute()\n",
    "\n",
    "from dnn.config import DNNConfig\n",
    "from dnn.data_access import DataClass\n",
    "from dnn.features import Features\n",
    "from dnn.model import Model\n",
    "\n",
    "FORMAT = \"%(asctime)s - %(name)s - %(levelname)s - %(message)s\"\n",
    "logging.basicConfig(format=FORMAT, level=logging.INFO)"
   ]
  },
  {
   "cell_type": "markdown",
   "metadata": {},
   "source": [
    "##### Build config"
   ]
  },
  {
   "cell_type": "code",
   "execution_count": 3,
   "metadata": {},
   "outputs": [],
   "source": [
    "config = DNNConfig()\n",
    "config.CURRENT_PATH = PARENT_PATH"
   ]
  },
  {
   "cell_type": "markdown",
   "metadata": {},
   "source": [
    "#### Parse raw data for pre-processing"
   ]
  },
  {
   "cell_type": "code",
   "execution_count": 4,
   "metadata": {},
   "outputs": [
    {
     "name": "stderr",
     "output_type": "stream",
     "text": [
      "2022-09-14 22:15:02,889 - dnn.data_access.fetch - INFO - Created model directory /home/vtyagi/repos/CS4771-Spring-2022-Regression-Competition/model\n",
      "2022-09-14 22:15:02,890 - dnn.data_access.fetch - INFO - Created reports directory /home/vtyagi/repos/CS4771-Spring-2022-Regression-Competition/reports\n",
      "2022-09-14 22:15:02,891 - dnn.data_access.fetch - INFO - Once unzipped, raw data will be available here: /home/vtyagi/repos/CS4771-Spring-2022-Regression-Competition/data/raw\n",
      "2022-09-14 22:15:02,892 - dnn.data_access.fetch - INFO - Unpacking file {zip_file_path}\n",
      "2022-09-14 22:15:03,726 - dnn.utils.utils - INFO - func:unzip took: 0.83 sec\n",
      "2022-09-14 22:15:03,727 - dnn.data_access.fetch - INFO - Reading raw data into CSV for pre-processing\n",
      "2022-09-14 22:15:04,695 - dnn.data_access.fetch - INFO - Splitting data available for model-building into train and validation sets\n",
      "2022-09-14 22:15:11,726 - dnn.data_access.fetch - INFO - Saved CSV to /home/vtyagi/repos/CS4771-Spring-2022-Regression-Competition/data/data.csv\n",
      "2022-09-14 22:15:11,727 - dnn.data_access.fetch - INFO - Ready for pre-processing\n",
      "2022-09-14 22:15:11,861 - dnn.utils.utils - INFO - func:build took: 8.97 sec\n"
     ]
    }
   ],
   "source": [
    "data = DataClass(config)\n",
    "data.make_dirs()\n",
    "df = data.build()"
   ]
  },
  {
   "cell_type": "markdown",
   "metadata": {},
   "source": [
    "#### Preprocess and build features"
   ]
  },
  {
   "cell_type": "code",
   "execution_count": 5,
   "metadata": {},
   "outputs": [
    {
     "name": "stderr",
     "output_type": "stream",
     "text": [
      "2022-09-14 22:15:13,501 - dnn.features.features - INFO - Fitting processor on train set\n",
      "2022-09-14 22:15:13,814 - dnn.utils.utils - INFO - func:fit took: 0.26 sec\n",
      "2022-09-14 22:15:13,815 - dnn.features.features - INFO - Transforming data\n",
      "2022-09-14 22:15:17,185 - dnn.utils.utils - INFO - func:transform took: 3.36 sec\n",
      "2022-09-14 22:15:28,695 - dnn.utils.utils - INFO - func:build took: 16.64 sec\n"
     ]
    }
   ],
   "source": [
    "features = Features(config)\n",
    "df_features = features.build(df)"
   ]
  },
  {
   "cell_type": "markdown",
   "metadata": {},
   "source": [
    "#### Train model and generate submission file"
   ]
  },
  {
   "cell_type": "code",
   "execution_count": 6,
   "metadata": {},
   "outputs": [
    {
     "name": "stderr",
     "output_type": "stream",
     "text": [
      "2022-09-14 22:15:30,609 - dnn.model.core - INFO - Training model\n",
      "2022-09-14 22:15:30,620 - dnn.model.core - INFO - Number of features: 610\n",
      "2022-09-14 22:15:30,621 - dnn.model.core - INFO - Number of training samples: 320000\n",
      "2022-09-14 22:15:30,622 - dnn.model.core - INFO - Number of validation samples: 80000\n",
      "EPOCH:1/10 - Training Loss: 432.6587, Validation Loss: 378.9439\n",
      "EPOCH:2/10 - Training Loss: 353.1731, Validation Loss: 356.1632\n",
      "EPOCH:3/10 - Training Loss: 343.8040, Validation Loss: 350.0914\n",
      "EPOCH:4/10 - Training Loss: 339.1981, Validation Loss: 346.1640\n",
      "EPOCH:5/10 - Training Loss: 336.2251, Validation Loss: 344.4388\n",
      "EPOCH:6/10 - Training Loss: 333.6592, Validation Loss: 345.4611\n",
      "EPOCH:7/10 - Training Loss: 331.4349, Validation Loss: 343.8223\n",
      "EPOCH:8/10 - Training Loss: 329.7966, Validation Loss: 347.2539\n",
      "EPOCH:9/10 - Training Loss: 328.4275, Validation Loss: 341.5088\n",
      "EPOCH:10/10 - Training Loss: 327.0334, Validation Loss: 342.0826\n",
      "2022-09-14 22:16:41,113 - dnn.model.core - INFO - Best epoch: 9\n",
      "2022-09-14 22:16:41,125 - dnn.utils.utils - INFO - func:train took: 1 min and                 10.51 sec\n",
      "2022-09-14 22:16:41,126 - dnn.model.core - INFO - Predicting on test set\n",
      "2022-09-14 22:16:42,394 - dnn.utils.utils - INFO - func:predict took: 0.81 sec\n",
      "2022-09-14 22:16:42,395 - dnn.model.core - INFO - Generating submission for kaggle competition\n",
      "2022-09-14 22:16:42,623 - dnn.model.core - INFO - Submission file saved to /home/vtyagi/repos/CS4771-Spring-2022-Regression-Competition/reports/submission.csv\n",
      "2022-09-14 22:16:42,641 - dnn.utils.utils - INFO - func:build took: 1 min and                 13.76 sec\n"
     ]
    }
   ],
   "source": [
    "model = Model(config)\n",
    "model.build(df_features)"
   ]
  },
  {
   "cell_type": "markdown",
   "metadata": {},
   "source": [
    "#### Save features and model"
   ]
  },
  {
   "cell_type": "code",
   "execution_count": 7,
   "metadata": {},
   "outputs": [
    {
     "name": "stderr",
     "output_type": "stream",
     "text": [
      "2022-09-14 22:16:42,742 - dnn.features.features - INFO - Saving processor to /home/vtyagi/repos/CS4771-Spring-2022-Regression-Competition/model/processor.pickle\n",
      "2022-09-14 22:16:42,745 - dnn.model.core - INFO - Saving model state dictionary to /home/vtyagi/repos/CS4771-Spring-2022-Regression-Competition/model/mlp.pth\n",
      "2022-09-14 22:16:42,775 - dnn.model.core - INFO - Saving model parameters to /home/vtyagi/repos/CS4771-Spring-2022-Regression-Competition/model/mlp_params.json\n",
      "2022-09-14 22:16:42,777 - dnn.utils.utils - INFO - func:save took: 0.03 sec\n"
     ]
    }
   ],
   "source": [
    "features.save()\n",
    "model.save()"
   ]
  },
  {
   "cell_type": "code",
   "execution_count": null,
   "metadata": {},
   "outputs": [],
   "source": []
  }
 ],
 "metadata": {
  "kernelspec": {
   "display_name": "Python 3.9.13 ('dnn')",
   "language": "python",
   "name": "python3"
  },
  "language_info": {
   "codemirror_mode": {
    "name": "ipython",
    "version": 3
   },
   "file_extension": ".py",
   "mimetype": "text/x-python",
   "name": "python",
   "nbconvert_exporter": "python",
   "pygments_lexer": "ipython3",
   "version": "3.9.13"
  },
  "orig_nbformat": 4,
  "vscode": {
   "interpreter": {
    "hash": "d0b278ae49555db665c69a1bcb35fe35602001a3cfa71a61c0ab99442cba84f6"
   }
  }
 },
 "nbformat": 4,
 "nbformat_minor": 2
}

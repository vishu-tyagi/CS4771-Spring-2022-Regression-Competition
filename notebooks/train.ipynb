{
 "cells": [
  {
   "cell_type": "code",
   "execution_count": 1,
   "metadata": {},
   "outputs": [],
   "source": [
    "%reload_ext autoreload\n",
    "%autoreload 2"
   ]
  },
  {
   "cell_type": "code",
   "execution_count": 2,
   "metadata": {},
   "outputs": [],
   "source": [
    "import os\n",
    "import gc\n",
    "import logging\n",
    "from pathlib import Path\n",
    "PARENT_PATH = Path(os.getcwd()).parent.absolute()\n",
    "\n",
    "import numpy as np\n",
    "import pandas as pd\n",
    "import torch\n",
    "\n",
    "from dnn.config import DNNConfig\n",
    "from dnn.data_access import DataClass\n",
    "from dnn.features import Features\n",
    "from dnn.model import Model\n",
    "\n",
    "FORMAT = \"%(asctime)s - %(name)s - %(levelname)s - %(message)s\"\n",
    "logging.basicConfig(format=FORMAT, level=logging.INFO)"
   ]
  },
  {
   "cell_type": "markdown",
   "metadata": {},
   "source": [
    "##### Build config"
   ]
  },
  {
   "cell_type": "code",
   "execution_count": 3,
   "metadata": {},
   "outputs": [],
   "source": [
    "config = DNNConfig()\n",
    "config.CURRENT_PATH = PARENT_PATH"
   ]
  },
  {
   "cell_type": "markdown",
   "metadata": {},
   "source": [
    "#### Parse raw data for pre-processing"
   ]
  },
  {
   "cell_type": "code",
   "execution_count": 4,
   "metadata": {},
   "outputs": [
    {
     "name": "stderr",
     "output_type": "stream",
     "text": [
      "2022-09-14 21:26:31,115 - dnn.data_access.fetch - INFO - Created model directory /home/vtyagi/repos/CS4771-Spring-2022-Regression-Competition/model\n",
      "2022-09-14 21:26:31,116 - dnn.data_access.fetch - INFO - Created reports directory /home/vtyagi/repos/CS4771-Spring-2022-Regression-Competition/reports\n",
      "2022-09-14 21:26:31,117 - dnn.data_access.fetch - INFO - Once unzipped, raw data will be available here: /home/vtyagi/repos/CS4771-Spring-2022-Regression-Competition/data/raw\n",
      "2022-09-14 21:26:31,120 - dnn.data_access.fetch - INFO - Unpacking file {zip_file_path}\n",
      "2022-09-14 21:26:31,958 - dnn.utils.utils - INFO - func:unzip took: 0.84 sec\n",
      "2022-09-14 21:26:31,959 - dnn.data_access.fetch - INFO - Reading raw data into CSV for pre-processing\n",
      "2022-09-14 21:26:32,965 - dnn.data_access.fetch - INFO - Splitting data available for model-building into train and validation sets\n",
      "2022-09-14 21:26:40,001 - dnn.data_access.fetch - INFO - Saved CSV to /home/vtyagi/repos/CS4771-Spring-2022-Regression-Competition/data/data.csv\n",
      "2022-09-14 21:26:40,002 - dnn.data_access.fetch - INFO - Ready for pre-processing\n",
      "2022-09-14 21:26:40,115 - dnn.utils.utils - INFO - func:build took: 8.99 sec\n"
     ]
    }
   ],
   "source": [
    "data = DataClass(config)\n",
    "data.make_dirs()\n",
    "df = data.build()"
   ]
  },
  {
   "cell_type": "markdown",
   "metadata": {},
   "source": [
    "#### Preprocess and build features"
   ]
  },
  {
   "cell_type": "code",
   "execution_count": 5,
   "metadata": {},
   "outputs": [
    {
     "name": "stderr",
     "output_type": "stream",
     "text": [
      "2022-09-14 21:26:41,704 - dnn.features.features - INFO - Fitting processor on train set\n",
      "2022-09-14 21:26:42,009 - dnn.utils.utils - INFO - func:fit took: 0.25 sec\n",
      "2022-09-14 21:26:42,010 - dnn.features.features - INFO - Transforming data\n",
      "2022-09-14 21:26:45,383 - dnn.utils.utils - INFO - func:transform took: 3.37 sec\n",
      "2022-09-14 21:26:58,025 - dnn.utils.utils - INFO - func:build took: 17.75 sec\n"
     ]
    }
   ],
   "source": [
    "features = Features(config)\n",
    "df_features = features.build(df)"
   ]
  },
  {
   "cell_type": "markdown",
   "metadata": {},
   "source": [
    "#### Train model and generate submission file"
   ]
  },
  {
   "cell_type": "code",
   "execution_count": 6,
   "metadata": {},
   "outputs": [
    {
     "name": "stderr",
     "output_type": "stream",
     "text": [
      "2022-09-14 21:26:59,935 - dnn.model.core - INFO - Training model\n",
      "2022-09-14 21:26:59,946 - dnn.model.core - INFO - Number of features: 610\n",
      "2022-09-14 21:26:59,947 - dnn.model.core - INFO - Number of training samples: 320000\n",
      "2022-09-14 21:26:59,948 - dnn.model.core - INFO - Number of validation samples: 80000\n",
      "EPOCH:1/10 - Training Loss: 437.0790, Validation Loss: 374.9083\n",
      "EPOCH:2/10 - Training Loss: 354.0769, Validation Loss: 356.0378\n",
      "EPOCH:3/10 - Training Loss: 343.3830, Validation Loss: 348.9504\n",
      "EPOCH:4/10 - Training Loss: 340.1999, Validation Loss: 350.6764\n",
      "EPOCH:5/10 - Training Loss: 336.5748, Validation Loss: 346.2588\n",
      "EPOCH:6/10 - Training Loss: 334.3928, Validation Loss: 346.1929\n",
      "EPOCH:7/10 - Training Loss: 332.2467, Validation Loss: 342.5577\n",
      "EPOCH:8/10 - Training Loss: 331.0764, Validation Loss: 341.9297\n",
      "EPOCH:9/10 - Training Loss: 330.0059, Validation Loss: 343.0682\n",
      "EPOCH:10/10 - Training Loss: 328.8979, Validation Loss: 342.1826\n",
      "2022-09-14 21:28:10,009 - dnn.model.core - INFO - Best epoch: 8\n",
      "2022-09-14 21:28:10,021 - dnn.utils.utils - INFO - func:train took: 1 min and                 10.09 sec\n",
      "2022-09-14 21:28:10,022 - dnn.model.core - INFO - Predicting on test set\n",
      "2022-09-14 21:28:11,289 - dnn.utils.utils - INFO - func:predict took: 0.80 sec\n",
      "2022-09-14 21:28:11,290 - dnn.model.core - INFO - Generating submission for kaggle competition\n",
      "2022-09-14 21:28:11,550 - dnn.model.core - INFO - Submission file saved to /home/vtyagi/repos/CS4771-Spring-2022-Regression-Competition/reports/submission.csv\n",
      "2022-09-14 21:28:11,566 - dnn.utils.utils - INFO - func:build took: 1 min and                 13.43 sec\n"
     ]
    }
   ],
   "source": [
    "model = Model(config)\n",
    "model.build(df_features)"
   ]
  },
  {
   "cell_type": "markdown",
   "metadata": {},
   "source": [
    "#### Save features and model"
   ]
  },
  {
   "cell_type": "code",
   "execution_count": 8,
   "metadata": {},
   "outputs": [
    {
     "name": "stderr",
     "output_type": "stream",
     "text": [
      "2022-09-14 22:11:40,157 - dnn.features.features - INFO - Saving processor to /home/vtyagi/repos/CS4771-Spring-2022-Regression-Competition/model/processor.pickle\n",
      "2022-09-14 22:11:40,159 - dnn.model.core - INFO - Saving model state dictionary to /home/vtyagi/repos/CS4771-Spring-2022-Regression-Competition/model/mlp.pth\n",
      "2022-09-14 22:11:40,187 - dnn.model.core - INFO - Saving model parameters to /home/vtyagi/repos/CS4771-Spring-2022-Regression-Competition/model/mlp_params.json\n",
      "2022-09-14 22:11:40,189 - dnn.utils.utils - INFO - func:save took: 0.03 sec\n"
     ]
    }
   ],
   "source": [
    "features.save()\n",
    "model.save()"
   ]
  },
  {
   "cell_type": "code",
   "execution_count": null,
   "metadata": {},
   "outputs": [],
   "source": []
  }
 ],
 "metadata": {
  "kernelspec": {
   "display_name": "Python 3.9.13 ('dnn')",
   "language": "python",
   "name": "python3"
  },
  "language_info": {
   "codemirror_mode": {
    "name": "ipython",
    "version": 3
   },
   "file_extension": ".py",
   "mimetype": "text/x-python",
   "name": "python",
   "nbconvert_exporter": "python",
   "pygments_lexer": "ipython3",
   "version": "3.9.13"
  },
  "orig_nbformat": 4,
  "vscode": {
   "interpreter": {
    "hash": "d0b278ae49555db665c69a1bcb35fe35602001a3cfa71a61c0ab99442cba84f6"
   }
  }
 },
 "nbformat": 4,
 "nbformat_minor": 2
}

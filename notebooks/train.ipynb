{
 "cells": [
  {
   "cell_type": "code",
   "execution_count": 8,
   "metadata": {},
   "outputs": [],
   "source": [
    "%reload_ext autoreload\n",
    "%autoreload 2"
   ]
  },
  {
   "cell_type": "code",
   "execution_count": 9,
   "metadata": {},
   "outputs": [],
   "source": [
    "import os\n",
    "import logging\n",
    "from pathlib import Path\n",
    "PARENT_PATH = Path(os.getcwd()).parent.absolute()\n",
    "\n",
    "from dnn.config import DNNConfig\n",
    "from dnn.data_access import DataClass\n",
    "from dnn.features import Features\n",
    "from dnn.model import Model\n",
    "\n",
    "FORMAT = \"%(asctime)s - %(name)s - %(levelname)s - %(message)s\"\n",
    "logging.basicConfig(format=FORMAT, level=logging.INFO)"
   ]
  },
  {
   "cell_type": "markdown",
   "metadata": {},
   "source": [
    "##### Build config"
   ]
  },
  {
   "cell_type": "code",
   "execution_count": 10,
   "metadata": {},
   "outputs": [],
   "source": [
    "config = DNNConfig()\n",
    "config.CURRENT_PATH = PARENT_PATH"
   ]
  },
  {
   "cell_type": "markdown",
   "metadata": {},
   "source": [
    "#### Parse raw data for pre-processing"
   ]
  },
  {
   "cell_type": "code",
   "execution_count": 11,
   "metadata": {},
   "outputs": [
    {
     "name": "stderr",
     "output_type": "stream",
     "text": [
      "2022-09-14 22:35:14,393 - dnn.data_access.fetch - INFO - Created model directory /home/vtyagi/repos/CS4771-Spring-2022-Regression-Competition/model\n",
      "2022-09-14 22:35:14,394 - dnn.data_access.fetch - INFO - Created reports directory /home/vtyagi/repos/CS4771-Spring-2022-Regression-Competition/reports\n",
      "2022-09-14 22:35:14,395 - dnn.data_access.fetch - INFO - Once unzipped, raw data will be available here: /home/vtyagi/repos/CS4771-Spring-2022-Regression-Competition/data/raw\n",
      "2022-09-14 22:35:14,396 - dnn.data_access.fetch - INFO - Unpacking file {zip_file_path}\n",
      "2022-09-14 22:35:15,220 - dnn.utils.utils - INFO - func:unzip took: 0.82 sec\n",
      "2022-09-14 22:35:15,221 - dnn.data_access.fetch - INFO - Reading raw data into CSV for pre-processing\n",
      "2022-09-14 22:35:16,164 - dnn.data_access.fetch - INFO - Splitting data available for model-building into train and validation sets\n",
      "2022-09-14 22:35:23,263 - dnn.data_access.fetch - INFO - Saved CSV to /home/vtyagi/repos/CS4771-Spring-2022-Regression-Competition/data/data.csv\n",
      "2022-09-14 22:35:23,264 - dnn.data_access.fetch - INFO - Ready for pre-processing\n",
      "2022-09-14 22:35:23,397 - dnn.utils.utils - INFO - func:build took: 9.00 sec\n"
     ]
    }
   ],
   "source": [
    "data = DataClass(config)\n",
    "data.make_dirs()\n",
    "df = data.build()"
   ]
  },
  {
   "cell_type": "markdown",
   "metadata": {},
   "source": [
    "#### Preprocess and build features"
   ]
  },
  {
   "cell_type": "code",
   "execution_count": 12,
   "metadata": {},
   "outputs": [
    {
     "name": "stderr",
     "output_type": "stream",
     "text": [
      "2022-09-14 22:35:25,140 - dnn.features.features - INFO - Fitting processor on train set\n",
      "2022-09-14 22:35:25,430 - dnn.utils.utils - INFO - func:fit took: 0.24 sec\n",
      "2022-09-14 22:35:25,431 - dnn.features.features - INFO - Transforming data\n",
      "2022-09-14 22:35:28,885 - dnn.utils.utils - INFO - func:transform took: 3.45 sec\n",
      "2022-09-14 22:35:43,509 - dnn.utils.utils - INFO - func:build took: 19.74 sec\n"
     ]
    }
   ],
   "source": [
    "features = Features(config)\n",
    "df_features = features.build(df)"
   ]
  },
  {
   "cell_type": "markdown",
   "metadata": {},
   "source": [
    "#### Train model and generate submission file"
   ]
  },
  {
   "cell_type": "code",
   "execution_count": 13,
   "metadata": {},
   "outputs": [
    {
     "name": "stderr",
     "output_type": "stream",
     "text": [
      "2022-09-14 22:35:45,573 - dnn.model.core - INFO - Training model\n",
      "2022-09-14 22:35:45,583 - dnn.model.core - INFO - Number of features: 610\n",
      "2022-09-14 22:35:45,584 - dnn.model.core - INFO - Number of training samples: 320000\n",
      "2022-09-14 22:35:45,585 - dnn.model.core - INFO - Number of validation samples: 80000\n",
      "EPOCH:1/100 - Training Loss: 436.1114, Validation Loss: 374.5657\n",
      "EPOCH:2/100 - Training Loss: 353.8389, Validation Loss: 355.8509\n",
      "EPOCH:3/100 - Training Loss: 343.9794, Validation Loss: 350.1673\n",
      "EPOCH:4/100 - Training Loss: 339.1825, Validation Loss: 347.3331\n",
      "EPOCH:5/100 - Training Loss: 336.6391, Validation Loss: 346.2542\n",
      "EPOCH:6/100 - Training Loss: 333.5960, Validation Loss: 345.5748\n",
      "EPOCH:7/100 - Training Loss: 332.6716, Validation Loss: 346.0030\n",
      "EPOCH:8/100 - Training Loss: 330.6468, Validation Loss: 343.3890\n",
      "EPOCH:9/100 - Training Loss: 329.5382, Validation Loss: 342.0117\n",
      "EPOCH:10/100 - Training Loss: 328.5388, Validation Loss: 344.0612\n",
      "EPOCH:11/100 - Training Loss: 326.8366, Validation Loss: 340.8364\n",
      "EPOCH:12/100 - Training Loss: 326.1092, Validation Loss: 340.7224\n",
      "EPOCH:13/100 - Training Loss: 325.0552, Validation Loss: 341.6544\n",
      "EPOCH:14/100 - Training Loss: 324.7464, Validation Loss: 345.1691\n",
      "EPOCH:15/100 - Training Loss: 324.1875, Validation Loss: 340.3783\n",
      "EPOCH:16/100 - Training Loss: 323.0641, Validation Loss: 344.2706\n",
      "EPOCH:17/100 - Training Loss: 321.9213, Validation Loss: 342.6601\n",
      "EPOCH:18/100 - Training Loss: 321.4941, Validation Loss: 339.8620\n",
      "EPOCH:19/100 - Training Loss: 320.8561, Validation Loss: 340.7861\n",
      "EPOCH:20/100 - Training Loss: 320.8688, Validation Loss: 340.7196\n",
      "EPOCH:21/100 - Training Loss: 319.6968, Validation Loss: 340.1013\n",
      "EPOCH:22/100 - Training Loss: 319.3295, Validation Loss: 339.8830\n",
      "EPOCH:23/100 - Training Loss: 319.4655, Validation Loss: 340.3628\n",
      "EPOCH:24/100 - Training Loss: 318.3552, Validation Loss: 340.2779\n",
      "EPOCH:25/100 - Training Loss: 317.9408, Validation Loss: 341.4516\n",
      "EPOCH:26/100 - Training Loss: 317.4409, Validation Loss: 340.4409\n",
      "EPOCH:27/100 - Training Loss: 317.0187, Validation Loss: 342.0490\n",
      "EPOCH:28/100 - Training Loss: 316.4717, Validation Loss: 340.4447\n",
      "EPOCH:29/100 - Training Loss: 315.9637, Validation Loss: 340.4474\n",
      "EPOCH:30/100 - Training Loss: 315.8426, Validation Loss: 340.3908\n",
      "EPOCH:31/100 - Training Loss: 315.7261, Validation Loss: 340.1572\n",
      "EPOCH:32/100 - Training Loss: 314.6361, Validation Loss: 340.4032\n",
      "EPOCH:33/100 - Training Loss: 314.2600, Validation Loss: 340.5552\n",
      "EPOCH:34/100 - Training Loss: 313.8423, Validation Loss: 340.8110\n",
      "EPOCH:35/100 - Training Loss: 314.1938, Validation Loss: 340.6596\n",
      "EPOCH:36/100 - Training Loss: 313.6921, Validation Loss: 343.5815\n",
      "EPOCH:37/100 - Training Loss: 313.2327, Validation Loss: 340.9317\n",
      "EPOCH:38/100 - Training Loss: 313.1159, Validation Loss: 340.9914\n",
      "EPOCH:39/100 - Training Loss: 312.1456, Validation Loss: 341.1244\n",
      "EPOCH:40/100 - Training Loss: 312.3134, Validation Loss: 343.5899\n",
      "EPOCH:41/100 - Training Loss: 312.1327, Validation Loss: 340.6344\n",
      "EPOCH:42/100 - Training Loss: 311.5095, Validation Loss: 341.9915\n",
      "EPOCH:43/100 - Training Loss: 311.1337, Validation Loss: 342.8479\n",
      "EPOCH:44/100 - Training Loss: 310.7506, Validation Loss: 341.3557\n",
      "EPOCH:45/100 - Training Loss: 310.5062, Validation Loss: 340.8728\n",
      "EPOCH:46/100 - Training Loss: 310.5680, Validation Loss: 341.5089\n",
      "EPOCH:47/100 - Training Loss: 309.8247, Validation Loss: 341.6899\n",
      "EPOCH:48/100 - Training Loss: 309.3399, Validation Loss: 340.7208\n",
      "EPOCH:49/100 - Training Loss: 309.5225, Validation Loss: 342.5567\n",
      "EPOCH:50/100 - Training Loss: 309.0451, Validation Loss: 340.7782\n",
      "EPOCH:51/100 - Training Loss: 308.6479, Validation Loss: 341.1258\n",
      "EPOCH:52/100 - Training Loss: 308.2593, Validation Loss: 340.7354\n",
      "EPOCH:53/100 - Training Loss: 308.1134, Validation Loss: 343.1957\n",
      "EPOCH:54/100 - Training Loss: 308.1603, Validation Loss: 341.4768\n",
      "EPOCH:55/100 - Training Loss: 307.6440, Validation Loss: 341.4608\n",
      "EPOCH:56/100 - Training Loss: 307.2645, Validation Loss: 343.2720\n",
      "EPOCH:57/100 - Training Loss: 307.1428, Validation Loss: 341.5320\n",
      "EPOCH:58/100 - Training Loss: 306.8505, Validation Loss: 341.7175\n",
      "EPOCH:59/100 - Training Loss: 306.5947, Validation Loss: 342.1443\n",
      "EPOCH:60/100 - Training Loss: 306.2263, Validation Loss: 341.5018\n",
      "EPOCH:61/100 - Training Loss: 306.0530, Validation Loss: 342.6488\n",
      "EPOCH:62/100 - Training Loss: 305.7492, Validation Loss: 341.2723\n",
      "EPOCH:63/100 - Training Loss: 305.9279, Validation Loss: 342.1445\n",
      "EPOCH:64/100 - Training Loss: 305.0766, Validation Loss: 341.4163\n",
      "EPOCH:65/100 - Training Loss: 304.9761, Validation Loss: 342.9146\n",
      "EPOCH:66/100 - Training Loss: 304.3113, Validation Loss: 342.0770\n",
      "EPOCH:67/100 - Training Loss: 304.3810, Validation Loss: 341.9464\n",
      "EPOCH:68/100 - Training Loss: 304.8952, Validation Loss: 341.3297\n",
      "EPOCH:69/100 - Training Loss: 303.9069, Validation Loss: 341.7376\n",
      "EPOCH:70/100 - Training Loss: 303.9199, Validation Loss: 342.0508\n",
      "EPOCH:71/100 - Training Loss: 303.5140, Validation Loss: 342.1000\n",
      "EPOCH:72/100 - Training Loss: 303.7828, Validation Loss: 341.6972\n",
      "EPOCH:73/100 - Training Loss: 303.1363, Validation Loss: 344.6179\n",
      "EPOCH:74/100 - Training Loss: 303.1756, Validation Loss: 343.3802\n",
      "EPOCH:75/100 - Training Loss: 302.7868, Validation Loss: 342.9599\n",
      "EPOCH:76/100 - Training Loss: 302.5889, Validation Loss: 341.8889\n",
      "EPOCH:77/100 - Training Loss: 302.4761, Validation Loss: 342.0116\n",
      "EPOCH:78/100 - Training Loss: 302.0123, Validation Loss: 342.1908\n",
      "EPOCH:79/100 - Training Loss: 302.4487, Validation Loss: 344.3064\n",
      "EPOCH:80/100 - Training Loss: 301.9634, Validation Loss: 343.0287\n",
      "EPOCH:81/100 - Training Loss: 301.7439, Validation Loss: 347.9796\n",
      "EPOCH:82/100 - Training Loss: 301.3375, Validation Loss: 342.9165\n",
      "EPOCH:83/100 - Training Loss: 301.4623, Validation Loss: 343.3325\n",
      "EPOCH:84/100 - Training Loss: 300.8180, Validation Loss: 342.0489\n",
      "EPOCH:85/100 - Training Loss: 300.9477, Validation Loss: 342.7820\n",
      "EPOCH:86/100 - Training Loss: 300.8703, Validation Loss: 343.2520\n",
      "EPOCH:87/100 - Training Loss: 300.9480, Validation Loss: 342.1060\n",
      "EPOCH:88/100 - Training Loss: 300.3888, Validation Loss: 342.3338\n",
      "EPOCH:89/100 - Training Loss: 300.1989, Validation Loss: 343.5078\n",
      "EPOCH:90/100 - Training Loss: 299.9405, Validation Loss: 343.3358\n",
      "EPOCH:91/100 - Training Loss: 299.8601, Validation Loss: 342.6973\n",
      "EPOCH:92/100 - Training Loss: 299.3296, Validation Loss: 343.1360\n",
      "EPOCH:93/100 - Training Loss: 299.5041, Validation Loss: 343.1299\n",
      "EPOCH:94/100 - Training Loss: 299.5186, Validation Loss: 342.5161\n",
      "EPOCH:95/100 - Training Loss: 298.7961, Validation Loss: 342.9042\n",
      "EPOCH:96/100 - Training Loss: 298.4738, Validation Loss: 343.0707\n",
      "EPOCH:97/100 - Training Loss: 298.5253, Validation Loss: 342.9367\n",
      "EPOCH:98/100 - Training Loss: 298.0881, Validation Loss: 343.2713\n",
      "EPOCH:99/100 - Training Loss: 298.2373, Validation Loss: 342.8224\n",
      "EPOCH:100/100 - Training Loss: 298.2188, Validation Loss: 342.7127\n",
      "2022-09-14 22:47:06,753 - dnn.model.core - INFO - Best epoch: 18\n",
      "2022-09-14 22:47:06,765 - dnn.utils.utils - INFO - func:train took: 11 min and                 21.19 sec\n",
      "2022-09-14 22:47:06,767 - dnn.model.core - INFO - Predicting on test set\n",
      "2022-09-14 22:47:08,030 - dnn.utils.utils - INFO - func:predict took: 0.79 sec\n",
      "2022-09-14 22:47:08,031 - dnn.model.core - INFO - Generating submission for kaggle competition\n",
      "2022-09-14 22:47:08,251 - dnn.model.core - INFO - Submission file saved to /home/vtyagi/repos/CS4771-Spring-2022-Regression-Competition/reports/submission.csv\n",
      "2022-09-14 22:47:08,267 - dnn.utils.utils - INFO - func:build took: 11 min and                 24.50 sec\n"
     ]
    }
   ],
   "source": [
    "model = Model(config)\n",
    "model.build(df_features)"
   ]
  },
  {
   "cell_type": "markdown",
   "metadata": {},
   "source": [
    "#### Save features and model"
   ]
  },
  {
   "cell_type": "code",
   "execution_count": 14,
   "metadata": {},
   "outputs": [
    {
     "name": "stderr",
     "output_type": "stream",
     "text": [
      "2022-09-14 22:47:08,442 - dnn.features.features - INFO - Saving processor to /home/vtyagi/repos/CS4771-Spring-2022-Regression-Competition/model/processor.pickle\n",
      "2022-09-14 22:47:08,444 - dnn.model.core - INFO - Saving model state dictionary to /home/vtyagi/repos/CS4771-Spring-2022-Regression-Competition/model/mlp.pth\n",
      "2022-09-14 22:47:08,466 - dnn.model.core - INFO - Saving model parameters to /home/vtyagi/repos/CS4771-Spring-2022-Regression-Competition/model/mlp_params.json\n",
      "2022-09-14 22:47:08,468 - dnn.utils.utils - INFO - func:save took: 0.02 sec\n"
     ]
    }
   ],
   "source": [
    "features.save()\n",
    "model.save()"
   ]
  },
  {
   "cell_type": "code",
   "execution_count": null,
   "metadata": {},
   "outputs": [],
   "source": []
  }
 ],
 "metadata": {
  "kernelspec": {
   "display_name": "Python 3.9.13 ('dnn')",
   "language": "python",
   "name": "python3"
  },
  "language_info": {
   "codemirror_mode": {
    "name": "ipython",
    "version": 3
   },
   "file_extension": ".py",
   "mimetype": "text/x-python",
   "name": "python",
   "nbconvert_exporter": "python",
   "pygments_lexer": "ipython3",
   "version": "3.9.13"
  },
  "orig_nbformat": 4,
  "vscode": {
   "interpreter": {
    "hash": "d0b278ae49555db665c69a1bcb35fe35602001a3cfa71a61c0ab99442cba84f6"
   }
  }
 },
 "nbformat": 4,
 "nbformat_minor": 2
}

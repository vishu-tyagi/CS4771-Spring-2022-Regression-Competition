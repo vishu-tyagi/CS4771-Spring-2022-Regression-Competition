{
 "cells": [
  {
   "cell_type": "code",
   "execution_count": 1,
   "metadata": {},
   "outputs": [],
   "source": [
    "%reload_ext autoreload\n",
    "%autoreload 2"
   ]
  },
  {
   "cell_type": "code",
   "execution_count": 2,
   "metadata": {},
   "outputs": [],
   "source": [
    "import os\n",
    "import logging\n",
    "from pathlib import Path\n",
    "PARENT_PATH = Path(os.getcwd()).parent.absolute()\n",
    "\n",
    "from dnn.config import DNNConfig\n",
    "from dnn.data_access import DataClass\n",
    "from dnn.features import Features\n",
    "from dnn.model import Model\n",
    "\n",
    "FORMAT = \"%(asctime)s - %(name)s - %(levelname)s - %(message)s\"\n",
    "logging.basicConfig(format=FORMAT, level=logging.INFO)"
   ]
  },
  {
   "cell_type": "markdown",
   "metadata": {},
   "source": [
    "##### Build config"
   ]
  },
  {
   "cell_type": "code",
   "execution_count": 3,
   "metadata": {},
   "outputs": [],
   "source": [
    "config = DNNConfig()\n",
    "config.CURRENT_PATH = PARENT_PATH"
   ]
  },
  {
   "cell_type": "markdown",
   "metadata": {},
   "source": [
    "#### Parse raw data for pre-processing"
   ]
  },
  {
   "cell_type": "code",
   "execution_count": 4,
   "metadata": {},
   "outputs": [
    {
     "name": "stderr",
     "output_type": "stream",
     "text": [
      "2022-09-15 03:54:08,638 - dnn.data_access.fetch - INFO - Created model directory /home/vtyagi/repos/CS4771-Spring-2022-Regression-Competition/model\n",
      "2022-09-15 03:54:08,640 - dnn.data_access.fetch - INFO - Created reports directory /home/vtyagi/repos/CS4771-Spring-2022-Regression-Competition/reports\n",
      "2022-09-15 03:54:08,641 - dnn.data_access.fetch - INFO - Once unzipped, raw data will be available here: /home/vtyagi/repos/CS4771-Spring-2022-Regression-Competition/data/raw\n",
      "2022-09-15 03:54:08,642 - dnn.data_access.fetch - INFO - Unpacking file {zip_file_path}\n",
      "2022-09-15 03:54:09,425 - dnn.utils.utils - INFO - func:unzip took: 0.78 sec\n",
      "2022-09-15 03:54:09,426 - dnn.data_access.fetch - INFO - Reading raw data into CSV for pre-processing\n",
      "2022-09-15 03:54:10,390 - dnn.data_access.fetch - INFO - Splitting data available for model-building into train and validation sets\n",
      "2022-09-15 03:54:17,213 - dnn.data_access.fetch - INFO - Saved CSV to /home/vtyagi/repos/CS4771-Spring-2022-Regression-Competition/data/data.csv\n",
      "2022-09-15 03:54:17,214 - dnn.data_access.fetch - INFO - Ready for pre-processing\n",
      "2022-09-15 03:54:17,344 - dnn.utils.utils - INFO - func:build took: 8.70 sec\n"
     ]
    }
   ],
   "source": [
    "data = DataClass(config)\n",
    "data.make_dirs()\n",
    "df = data.build()"
   ]
  },
  {
   "cell_type": "markdown",
   "metadata": {},
   "source": [
    "#### Preprocess and build features"
   ]
  },
  {
   "cell_type": "code",
   "execution_count": 5,
   "metadata": {},
   "outputs": [
    {
     "name": "stderr",
     "output_type": "stream",
     "text": [
      "2022-09-15 03:54:18,906 - dnn.features.features - INFO - Fitting processor on train set\n",
      "2022-09-15 03:54:19,212 - dnn.utils.utils - INFO - func:fit took: 0.26 sec\n",
      "2022-09-15 03:54:19,213 - dnn.features.features - INFO - Transforming data\n",
      "2022-09-15 03:54:22,573 - dnn.utils.utils - INFO - func:transform took: 3.35 sec\n",
      "2022-09-15 03:54:33,817 - dnn.utils.utils - INFO - func:build took: 16.32 sec\n"
     ]
    }
   ],
   "source": [
    "features = Features(config)\n",
    "df_features = features.build(df)"
   ]
  },
  {
   "cell_type": "markdown",
   "metadata": {},
   "source": [
    "#### Train model and generate submission file"
   ]
  },
  {
   "cell_type": "code",
   "execution_count": 6,
   "metadata": {},
   "outputs": [
    {
     "name": "stderr",
     "output_type": "stream",
     "text": [
      "2022-09-15 03:54:36,232 - dnn.model.core - INFO - Training model\n",
      "2022-09-15 03:54:36,246 - dnn.model.core - INFO - Number of features: 610\n",
      "2022-09-15 03:54:36,246 - dnn.model.core - INFO - Number of training samples: 320000\n",
      "2022-09-15 03:54:36,247 - dnn.model.core - INFO - Number of validation samples: 80000\n",
      "EPOCH:1/100 - Training Loss: 434.5218, Validation Loss: 376.2603\n",
      "EPOCH:2/100 - Training Loss: 353.1301, Validation Loss: 359.2219\n",
      "EPOCH:3/100 - Training Loss: 342.8799, Validation Loss: 350.0489\n",
      "EPOCH:4/100 - Training Loss: 338.4302, Validation Loss: 346.4148\n",
      "EPOCH:5/100 - Training Loss: 335.9062, Validation Loss: 345.3732\n",
      "EPOCH:6/100 - Training Loss: 333.5598, Validation Loss: 343.2729\n",
      "EPOCH:7/100 - Training Loss: 331.5424, Validation Loss: 342.7682\n",
      "EPOCH:8/100 - Training Loss: 329.7884, Validation Loss: 341.8892\n",
      "EPOCH:9/100 - Training Loss: 328.4201, Validation Loss: 341.9203\n",
      "EPOCH:10/100 - Training Loss: 327.5036, Validation Loss: 340.7039\n",
      "EPOCH:11/100 - Training Loss: 325.8000, Validation Loss: 340.6818\n",
      "EPOCH:12/100 - Training Loss: 324.8540, Validation Loss: 342.6194\n",
      "EPOCH:13/100 - Training Loss: 324.2419, Validation Loss: 340.3013\n",
      "EPOCH:14/100 - Training Loss: 323.1272, Validation Loss: 341.3334\n",
      "EPOCH:15/100 - Training Loss: 322.6302, Validation Loss: 340.3671\n",
      "EPOCH:16/100 - Training Loss: 321.0896, Validation Loss: 339.9613\n",
      "EPOCH:17/100 - Training Loss: 320.5504, Validation Loss: 339.5546\n",
      "EPOCH:18/100 - Training Loss: 320.2044, Validation Loss: 340.1325\n",
      "EPOCH:19/100 - Training Loss: 319.8314, Validation Loss: 340.6488\n",
      "EPOCH:20/100 - Training Loss: 319.3030, Validation Loss: 340.9236\n",
      "EPOCH:21/100 - Training Loss: 318.1543, Validation Loss: 340.2066\n",
      "EPOCH:22/100 - Training Loss: 318.1230, Validation Loss: 343.4418\n",
      "EPOCH:23/100 - Training Loss: 317.2427, Validation Loss: 339.7970\n",
      "EPOCH:24/100 - Training Loss: 316.7927, Validation Loss: 340.3166\n",
      "EPOCH:25/100 - Training Loss: 316.3868, Validation Loss: 339.6046\n",
      "EPOCH:26/100 - Training Loss: 315.7816, Validation Loss: 339.6428\n",
      "EPOCH:27/100 - Training Loss: 315.7111, Validation Loss: 340.7288\n",
      "EPOCH:28/100 - Training Loss: 314.9780, Validation Loss: 340.9655\n",
      "EPOCH:29/100 - Training Loss: 314.2299, Validation Loss: 341.3409\n",
      "EPOCH:30/100 - Training Loss: 314.4026, Validation Loss: 341.1821\n",
      "EPOCH:31/100 - Training Loss: 314.1453, Validation Loss: 343.7687\n",
      "EPOCH:32/100 - Training Loss: 313.6380, Validation Loss: 343.0339\n",
      "EPOCH:33/100 - Training Loss: 313.4827, Validation Loss: 343.5009\n",
      "EPOCH:34/100 - Training Loss: 312.8581, Validation Loss: 342.8707\n",
      "EPOCH:35/100 - Training Loss: 312.2746, Validation Loss: 340.9564\n",
      "EPOCH:36/100 - Training Loss: 311.9577, Validation Loss: 340.5699\n",
      "EPOCH:37/100 - Training Loss: 311.6923, Validation Loss: 340.3177\n",
      "EPOCH:38/100 - Training Loss: 310.8351, Validation Loss: 340.2988\n",
      "EPOCH:39/100 - Training Loss: 310.9610, Validation Loss: 340.3036\n",
      "EPOCH:40/100 - Training Loss: 310.7665, Validation Loss: 341.8164\n",
      "EPOCH:41/100 - Training Loss: 309.9511, Validation Loss: 340.6217\n",
      "EPOCH:42/100 - Training Loss: 310.1450, Validation Loss: 340.4054\n",
      "EPOCH:43/100 - Training Loss: 309.3474, Validation Loss: 340.6842\n",
      "EPOCH:44/100 - Training Loss: 309.6947, Validation Loss: 340.9708\n",
      "EPOCH:45/100 - Training Loss: 309.0166, Validation Loss: 340.7617\n",
      "EPOCH:46/100 - Training Loss: 308.7418, Validation Loss: 341.0355\n",
      "EPOCH:47/100 - Training Loss: 308.4890, Validation Loss: 340.6019\n",
      "EPOCH:48/100 - Training Loss: 308.1300, Validation Loss: 340.5715\n",
      "EPOCH:49/100 - Training Loss: 307.1359, Validation Loss: 340.9929\n",
      "EPOCH:50/100 - Training Loss: 307.2098, Validation Loss: 342.7018\n",
      "EPOCH:51/100 - Training Loss: 307.0952, Validation Loss: 341.3487\n",
      "EPOCH:52/100 - Training Loss: 306.5610, Validation Loss: 341.0670\n",
      "EPOCH:53/100 - Training Loss: 306.0886, Validation Loss: 341.8418\n",
      "EPOCH:54/100 - Training Loss: 305.9499, Validation Loss: 343.0612\n",
      "EPOCH:55/100 - Training Loss: 305.7190, Validation Loss: 341.1378\n",
      "EPOCH:56/100 - Training Loss: 305.5765, Validation Loss: 341.3573\n",
      "EPOCH:57/100 - Training Loss: 305.2673, Validation Loss: 341.6051\n",
      "EPOCH:58/100 - Training Loss: 305.3894, Validation Loss: 340.8997\n",
      "EPOCH:59/100 - Training Loss: 304.7512, Validation Loss: 342.3839\n",
      "EPOCH:60/100 - Training Loss: 304.5844, Validation Loss: 342.5698\n",
      "EPOCH:61/100 - Training Loss: 304.6639, Validation Loss: 343.6252\n",
      "EPOCH:62/100 - Training Loss: 304.0704, Validation Loss: 341.4625\n",
      "EPOCH:63/100 - Training Loss: 303.9794, Validation Loss: 344.7775\n",
      "EPOCH:64/100 - Training Loss: 303.5960, Validation Loss: 341.5546\n",
      "EPOCH:65/100 - Training Loss: 303.4497, Validation Loss: 343.1212\n",
      "EPOCH:66/100 - Training Loss: 303.3263, Validation Loss: 343.8633\n",
      "EPOCH:67/100 - Training Loss: 303.0236, Validation Loss: 342.0300\n",
      "EPOCH:68/100 - Training Loss: 302.4117, Validation Loss: 341.8283\n",
      "EPOCH:69/100 - Training Loss: 302.4109, Validation Loss: 343.7199\n",
      "EPOCH:70/100 - Training Loss: 302.1002, Validation Loss: 342.9989\n",
      "EPOCH:71/100 - Training Loss: 301.9166, Validation Loss: 343.3422\n",
      "EPOCH:72/100 - Training Loss: 301.7657, Validation Loss: 341.8995\n",
      "EPOCH:73/100 - Training Loss: 301.4081, Validation Loss: 342.3373\n",
      "EPOCH:74/100 - Training Loss: 301.6705, Validation Loss: 342.1689\n",
      "EPOCH:75/100 - Training Loss: 301.2066, Validation Loss: 342.6247\n",
      "EPOCH:76/100 - Training Loss: 300.6662, Validation Loss: 342.5598\n",
      "EPOCH:77/100 - Training Loss: 300.8665, Validation Loss: 342.6719\n",
      "EPOCH:78/100 - Training Loss: 300.0936, Validation Loss: 342.5192\n",
      "EPOCH:79/100 - Training Loss: 300.1380, Validation Loss: 342.2131\n",
      "EPOCH:80/100 - Training Loss: 299.7580, Validation Loss: 345.3642\n",
      "EPOCH:81/100 - Training Loss: 299.8847, Validation Loss: 342.2455\n",
      "EPOCH:82/100 - Training Loss: 299.9238, Validation Loss: 342.3029\n",
      "EPOCH:83/100 - Training Loss: 299.3764, Validation Loss: 342.9530\n",
      "EPOCH:84/100 - Training Loss: 299.0955, Validation Loss: 343.0004\n",
      "EPOCH:85/100 - Training Loss: 299.0412, Validation Loss: 342.0277\n",
      "EPOCH:86/100 - Training Loss: 298.7490, Validation Loss: 342.5935\n",
      "EPOCH:87/100 - Training Loss: 298.7695, Validation Loss: 343.8343\n",
      "EPOCH:88/100 - Training Loss: 298.3651, Validation Loss: 342.8716\n",
      "EPOCH:89/100 - Training Loss: 297.8965, Validation Loss: 342.7240\n",
      "EPOCH:90/100 - Training Loss: 297.8046, Validation Loss: 344.9562\n",
      "EPOCH:91/100 - Training Loss: 298.0912, Validation Loss: 342.6235\n",
      "EPOCH:92/100 - Training Loss: 298.1202, Validation Loss: 344.9335\n",
      "EPOCH:93/100 - Training Loss: 297.2696, Validation Loss: 343.8577\n",
      "EPOCH:94/100 - Training Loss: 297.6895, Validation Loss: 343.3048\n",
      "EPOCH:95/100 - Training Loss: 296.9289, Validation Loss: 346.1400\n",
      "EPOCH:96/100 - Training Loss: 297.0550, Validation Loss: 342.8896\n",
      "EPOCH:97/100 - Training Loss: 296.4546, Validation Loss: 344.2770\n",
      "EPOCH:98/100 - Training Loss: 296.1894, Validation Loss: 342.2240\n",
      "EPOCH:99/100 - Training Loss: 296.1982, Validation Loss: 342.9014\n",
      "EPOCH:100/100 - Training Loss: 296.0321, Validation Loss: 345.5019\n",
      "2022-09-15 04:59:03,975 - dnn.model.core - INFO - Best epoch: 17\n",
      "2022-09-15 04:59:03,991 - dnn.utils.utils - INFO - func:train took: 1 hr and 64 min\n",
      "2022-09-15 04:59:03,993 - dnn.model.core - INFO - Predicting on test set\n",
      "2022-09-15 04:59:10,105 - dnn.utils.utils - INFO - func:predict took: 5.46 sec\n",
      "2022-09-15 04:59:10,107 - dnn.model.core - INFO - Generating submission for kaggle competition\n",
      "2022-09-15 04:59:10,598 - dnn.model.core - INFO - Submission file saved to /home/vtyagi/repos/CS4771-Spring-2022-Regression-Competition/reports/submission.csv\n",
      "2022-09-15 04:59:10,619 - dnn.utils.utils - INFO - func:build took: 1 hr and 64 min\n"
     ]
    }
   ],
   "source": [
    "model = Model(config)\n",
    "model.build(df_features)"
   ]
  },
  {
   "cell_type": "markdown",
   "metadata": {},
   "source": [
    "#### Save features and model"
   ]
  },
  {
   "cell_type": "code",
   "execution_count": 7,
   "metadata": {},
   "outputs": [
    {
     "name": "stderr",
     "output_type": "stream",
     "text": [
      "2022-09-15 04:59:10,835 - dnn.features.features - INFO - Saving processor to /home/vtyagi/repos/CS4771-Spring-2022-Regression-Competition/model/processor.pickle\n",
      "2022-09-15 04:59:10,839 - dnn.model.core - INFO - Saving model state dictionary to /home/vtyagi/repos/CS4771-Spring-2022-Regression-Competition/model/mlp.pth\n",
      "2022-09-15 04:59:10,877 - dnn.model.core - INFO - Saving model parameters to /home/vtyagi/repos/CS4771-Spring-2022-Regression-Competition/model/mlp_params.json\n",
      "2022-09-15 04:59:10,882 - dnn.utils.utils - INFO - func:save took: 0.04 sec\n"
     ]
    }
   ],
   "source": [
    "features.save()\n",
    "model.save()"
   ]
  },
  {
   "cell_type": "code",
   "execution_count": null,
   "metadata": {},
   "outputs": [],
   "source": []
  }
 ],
 "metadata": {
  "kernelspec": {
   "display_name": "Python 3.9.13 ('dnn')",
   "language": "python",
   "name": "python3"
  },
  "language_info": {
   "codemirror_mode": {
    "name": "ipython",
    "version": 3
   },
   "file_extension": ".py",
   "mimetype": "text/x-python",
   "name": "python",
   "nbconvert_exporter": "python",
   "pygments_lexer": "ipython3",
   "version": "3.9.13"
  },
  "orig_nbformat": 4,
  "vscode": {
   "interpreter": {
    "hash": "d0b278ae49555db665c69a1bcb35fe35602001a3cfa71a61c0ab99442cba84f6"
   }
  }
 },
 "nbformat": 4,
 "nbformat_minor": 2
}
